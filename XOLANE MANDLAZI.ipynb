{
 "cells": [
  {
   "cell_type": "markdown",
   "metadata": {},
   "source": [
    "### Importing and Installing Libraries"
   ]
  },
  {
   "cell_type": "code",
   "execution_count": 247,
   "metadata": {},
   "outputs": [],
   "source": [
    "# Libraries used to load dataframe and visualize data\n",
    "import numpy as np \n",
    "import pandas as pd\n",
    "import nltk\n",
    "import matplotlib.pyplot as plt\n",
    "import seaborn as sns\n",
    "from plotly import graph_objs as go\n",
    "import plotly.express as px\n",
    "import plotly.figure_factory as ff\n",
    "from yellowbrick.text import FreqDistVisualizer\n",
    "from yellowbrick.features import RadViz\n",
    "import plotly.io as pio\n",
    "pio.renderers.default='notebook'\n",
    "%matplotlib inline\n",
    "\n",
    "# Noise removal helper libraries\n",
    "import re\n",
    "import string \n",
    "from stopwordsiso import stopwords as sw\n",
    "from nltk.corpus import stopwords\n",
    "\n",
    "# Text Preprocessing\n",
    "from nltk.tokenize import TweetTokenizer\n",
    "from nltk import PorterStemmer\n",
    "from nltk.stem.wordnet import WordNetLemmatizer\n",
    "\n",
    "# Feature Engineering and Data preparation for modelling\n",
    "from sklearn.feature_extraction.text import CountVectorizer\n",
    "from sklearn.model_selection import train_test_split\n",
    "from imblearn.over_sampling import SMOTE\n",
    "\n",
    "# Model building and training\n",
    "from sklearn.svm import SVC \n",
    "from sklearn.linear_model import LogisticRegression\n",
    "from sklearn.naive_bayes import MultinomialNB\n",
    "\n",
    "#Model evaluation\n",
    "from sklearn.metrics import confusion_matrix\n",
    "from sklearn.metrics import classification_report\n",
    "from sklearn.metrics import log_loss\n",
    "from sklearn.metrics import f1_score\n",
    "from sklearn.model_selection import cross_val_score\n",
    "\n",
    "#save the final model and vectorizer\n",
    "import pickle"
   ]
  },
  {
   "cell_type": "markdown",
   "metadata": {},
   "source": [
    "### Load Training Data"
   ]
  },
  {
   "cell_type": "code",
   "execution_count": 248,
   "metadata": {
    "scrolled": false
   },
   "outputs": [],
   "source": [
    "# Load the training and test dataset\n",
    "train_data = pd.read_csv('train.csv')\n",
    "train= pd.read_csv('train.csv')\n",
    "test_data=pd.read_csv('test_with_no_labels.csv')\n",
    "test=pd.read_csv('test_with_no_labels.csv')"
   ]
  },
  {
   "cell_type": "code",
   "execution_count": 249,
   "metadata": {},
   "outputs": [
    {
     "data": {
      "text/html": [
       "<div>\n",
       "<style scoped>\n",
       "    .dataframe tbody tr th:only-of-type {\n",
       "        vertical-align: middle;\n",
       "    }\n",
       "\n",
       "    .dataframe tbody tr th {\n",
       "        vertical-align: top;\n",
       "    }\n",
       "\n",
       "    .dataframe thead th {\n",
       "        text-align: right;\n",
       "    }\n",
       "</style>\n",
       "<table border=\"1\" class=\"dataframe\">\n",
       "  <thead>\n",
       "    <tr style=\"text-align: right;\">\n",
       "      <th></th>\n",
       "      <th>sentiment</th>\n",
       "      <th>message</th>\n",
       "      <th>tweetid</th>\n",
       "    </tr>\n",
       "  </thead>\n",
       "  <tbody>\n",
       "    <tr>\n",
       "      <th>0</th>\n",
       "      <td>1</td>\n",
       "      <td>PolySciMajor EPA chief doesn't think carbon di...</td>\n",
       "      <td>625221</td>\n",
       "    </tr>\n",
       "    <tr>\n",
       "      <th>1</th>\n",
       "      <td>1</td>\n",
       "      <td>It's not like we lack evidence of anthropogeni...</td>\n",
       "      <td>126103</td>\n",
       "    </tr>\n",
       "    <tr>\n",
       "      <th>2</th>\n",
       "      <td>2</td>\n",
       "      <td>RT @RawStory: Researchers say we have three ye...</td>\n",
       "      <td>698562</td>\n",
       "    </tr>\n",
       "    <tr>\n",
       "      <th>3</th>\n",
       "      <td>1</td>\n",
       "      <td>#TodayinMaker# WIRED : 2016 was a pivotal year...</td>\n",
       "      <td>573736</td>\n",
       "    </tr>\n",
       "    <tr>\n",
       "      <th>4</th>\n",
       "      <td>1</td>\n",
       "      <td>RT @SoyNovioDeTodas: It's 2016, and a racist, ...</td>\n",
       "      <td>466954</td>\n",
       "    </tr>\n",
       "  </tbody>\n",
       "</table>\n",
       "</div>"
      ],
      "text/plain": [
       "   sentiment                                            message  tweetid\n",
       "0          1  PolySciMajor EPA chief doesn't think carbon di...   625221\n",
       "1          1  It's not like we lack evidence of anthropogeni...   126103\n",
       "2          2  RT @RawStory: Researchers say we have three ye...   698562\n",
       "3          1  #TodayinMaker# WIRED : 2016 was a pivotal year...   573736\n",
       "4          1  RT @SoyNovioDeTodas: It's 2016, and a racist, ...   466954"
      ]
     },
     "execution_count": 249,
     "metadata": {},
     "output_type": "execute_result"
    }
   ],
   "source": [
    "train_data.head()"
   ]
  },
  {
   "cell_type": "code",
   "execution_count": 250,
   "metadata": {},
   "outputs": [
    {
     "data": {
      "text/html": [
       "<div>\n",
       "<style scoped>\n",
       "    .dataframe tbody tr th:only-of-type {\n",
       "        vertical-align: middle;\n",
       "    }\n",
       "\n",
       "    .dataframe tbody tr th {\n",
       "        vertical-align: top;\n",
       "    }\n",
       "\n",
       "    .dataframe thead th {\n",
       "        text-align: right;\n",
       "    }\n",
       "</style>\n",
       "<table border=\"1\" class=\"dataframe\">\n",
       "  <thead>\n",
       "    <tr style=\"text-align: right;\">\n",
       "      <th></th>\n",
       "      <th>message</th>\n",
       "      <th>tweetid</th>\n",
       "    </tr>\n",
       "  </thead>\n",
       "  <tbody>\n",
       "    <tr>\n",
       "      <th>0</th>\n",
       "      <td>Europe will now be looking to China to make su...</td>\n",
       "      <td>169760</td>\n",
       "    </tr>\n",
       "    <tr>\n",
       "      <th>1</th>\n",
       "      <td>Combine this with the polling of staffers re c...</td>\n",
       "      <td>35326</td>\n",
       "    </tr>\n",
       "    <tr>\n",
       "      <th>2</th>\n",
       "      <td>The scary, unimpeachable evidence that climate...</td>\n",
       "      <td>224985</td>\n",
       "    </tr>\n",
       "    <tr>\n",
       "      <th>3</th>\n",
       "      <td>@Karoli @morgfair @OsborneInk @dailykos \\nPuti...</td>\n",
       "      <td>476263</td>\n",
       "    </tr>\n",
       "    <tr>\n",
       "      <th>4</th>\n",
       "      <td>RT @FakeWillMoore: 'Female orgasms cause globa...</td>\n",
       "      <td>872928</td>\n",
       "    </tr>\n",
       "  </tbody>\n",
       "</table>\n",
       "</div>"
      ],
      "text/plain": [
       "                                             message  tweetid\n",
       "0  Europe will now be looking to China to make su...   169760\n",
       "1  Combine this with the polling of staffers re c...    35326\n",
       "2  The scary, unimpeachable evidence that climate...   224985\n",
       "3  @Karoli @morgfair @OsborneInk @dailykos \\nPuti...   476263\n",
       "4  RT @FakeWillMoore: 'Female orgasms cause globa...   872928"
      ]
     },
     "execution_count": 250,
     "metadata": {},
     "output_type": "execute_result"
    }
   ],
   "source": [
    "test_data.head()"
   ]
  },
  {
   "cell_type": "markdown",
   "metadata": {},
   "source": [
    "###  Noise Removal"
   ]
  },
  {
   "cell_type": "code",
   "execution_count": 251,
   "metadata": {},
   "outputs": [],
   "source": [
    "def text_preprocessing (df_text):\n",
    "    \n",
    "    # Regex pattern for url addresses\n",
    "    pattern_url = r'(https?:\\/\\/(?:www\\.)?[-a-zA-Z0-9@:%._+~#=]{1,256}\\.[a-zA-Z0-9()]{1,6}[-a-zA-Z0-9()@:%_+.~#?&/=]*)' \n",
    "    \n",
    "    # Regex patter for numerical values\n",
    "    pattern_digits = r'\\d+'\n",
    "    \n",
    "    # Regex pattern for twitter handles\n",
    "    pattern_handles = r'@(\\w+)'\n",
    "\n",
    "    # removing website addresses\n",
    "    df_text['message'] = df_text['message'].replace(to_replace = pattern_url, value = '', regex = True)\n",
    "    \n",
    "    # removing digits \n",
    "    df_text['message'] = df_text['message'].replace(to_replace = pattern_digits, value = '', regex = True)\n",
    "    # removing handles\n",
    "    df_text['message'] = df_text['message'].replace(to_replace = pattern_handles, value = '', regex = True)\n",
    "    \n",
    "    # convering text to lowercase\n",
    "    low = lambda tweets: ''.join([tweet.lower() for tweet in tweets])\n",
    "    df_text['message'] = df_text['message'].apply(low) # The low function is used convert values in the message column to lowercase\n",
    "    \n",
    "    # removeing punctuation from a dataframe\n",
    "    punct = lambda tweets: ''.join([tweet for tweet in tweets if tweet not in string.punctuation])\n",
    "    df_text['message'] = df_text['message'].apply(punct)# The punct function is used ot remove punctuation from the message column\n",
    "    \n",
    "    #removing non-ascii characters from the message column in the dataframe\n",
    "    df_text.message.replace({r'[^\\x00-\\x7F]+':''}, regex=True, inplace=True)\n",
    "    \n",
    "    return df_text"
   ]
  },
  {
   "cell_type": "code",
   "execution_count": 252,
   "metadata": {},
   "outputs": [
    {
     "data": {
      "text/html": [
       "<div>\n",
       "<style scoped>\n",
       "    .dataframe tbody tr th:only-of-type {\n",
       "        vertical-align: middle;\n",
       "    }\n",
       "\n",
       "    .dataframe tbody tr th {\n",
       "        vertical-align: top;\n",
       "    }\n",
       "\n",
       "    .dataframe thead th {\n",
       "        text-align: right;\n",
       "    }\n",
       "</style>\n",
       "<table border=\"1\" class=\"dataframe\">\n",
       "  <thead>\n",
       "    <tr style=\"text-align: right;\">\n",
       "      <th></th>\n",
       "      <th>sentiment</th>\n",
       "      <th>message</th>\n",
       "      <th>tweetid</th>\n",
       "    </tr>\n",
       "  </thead>\n",
       "  <tbody>\n",
       "    <tr>\n",
       "      <th>0</th>\n",
       "      <td>1</td>\n",
       "      <td>polyscimajor epa chief doesnt think carbon dio...</td>\n",
       "      <td>625221</td>\n",
       "    </tr>\n",
       "    <tr>\n",
       "      <th>1</th>\n",
       "      <td>1</td>\n",
       "      <td>its not like we lack evidence of anthropogenic...</td>\n",
       "      <td>126103</td>\n",
       "    </tr>\n",
       "    <tr>\n",
       "      <th>2</th>\n",
       "      <td>2</td>\n",
       "      <td>rt  researchers say we have three years to act...</td>\n",
       "      <td>698562</td>\n",
       "    </tr>\n",
       "    <tr>\n",
       "      <th>3</th>\n",
       "      <td>1</td>\n",
       "      <td>todayinmaker wired   was a pivotal year in the...</td>\n",
       "      <td>573736</td>\n",
       "    </tr>\n",
       "    <tr>\n",
       "      <th>4</th>\n",
       "      <td>1</td>\n",
       "      <td>rt  its  and a racist sexist climate change de...</td>\n",
       "      <td>466954</td>\n",
       "    </tr>\n",
       "  </tbody>\n",
       "</table>\n",
       "</div>"
      ],
      "text/plain": [
       "   sentiment                                            message  tweetid\n",
       "0          1  polyscimajor epa chief doesnt think carbon dio...   625221\n",
       "1          1  its not like we lack evidence of anthropogenic...   126103\n",
       "2          2  rt  researchers say we have three years to act...   698562\n",
       "3          1  todayinmaker wired   was a pivotal year in the...   573736\n",
       "4          1  rt  its  and a racist sexist climate change de...   466954"
      ]
     },
     "execution_count": 252,
     "metadata": {},
     "output_type": "execute_result"
    }
   ],
   "source": [
    "clean_train = text_preprocessing(train_data)\n",
    "clean_train.head()"
   ]
  },
  {
   "cell_type": "code",
   "execution_count": 253,
   "metadata": {},
   "outputs": [
    {
     "data": {
      "text/html": [
       "<div>\n",
       "<style scoped>\n",
       "    .dataframe tbody tr th:only-of-type {\n",
       "        vertical-align: middle;\n",
       "    }\n",
       "\n",
       "    .dataframe tbody tr th {\n",
       "        vertical-align: top;\n",
       "    }\n",
       "\n",
       "    .dataframe thead th {\n",
       "        text-align: right;\n",
       "    }\n",
       "</style>\n",
       "<table border=\"1\" class=\"dataframe\">\n",
       "  <thead>\n",
       "    <tr style=\"text-align: right;\">\n",
       "      <th></th>\n",
       "      <th>message</th>\n",
       "      <th>tweetid</th>\n",
       "    </tr>\n",
       "  </thead>\n",
       "  <tbody>\n",
       "    <tr>\n",
       "      <th>0</th>\n",
       "      <td>europe will now be looking to china to make su...</td>\n",
       "      <td>169760</td>\n",
       "    </tr>\n",
       "    <tr>\n",
       "      <th>1</th>\n",
       "      <td>combine this with the polling of staffers re c...</td>\n",
       "      <td>35326</td>\n",
       "    </tr>\n",
       "    <tr>\n",
       "      <th>2</th>\n",
       "      <td>the scary unimpeachable evidence that climate ...</td>\n",
       "      <td>224985</td>\n",
       "    </tr>\n",
       "    <tr>\n",
       "      <th>3</th>\n",
       "      <td>\\nputin got to you too jill  \\ntrump doesn...</td>\n",
       "      <td>476263</td>\n",
       "    </tr>\n",
       "    <tr>\n",
       "      <th>4</th>\n",
       "      <td>rt  female orgasms cause global warming\\nsarca...</td>\n",
       "      <td>872928</td>\n",
       "    </tr>\n",
       "  </tbody>\n",
       "</table>\n",
       "</div>"
      ],
      "text/plain": [
       "                                             message  tweetid\n",
       "0  europe will now be looking to china to make su...   169760\n",
       "1  combine this with the polling of staffers re c...    35326\n",
       "2  the scary unimpeachable evidence that climate ...   224985\n",
       "3      \\nputin got to you too jill  \\ntrump doesn...   476263\n",
       "4  rt  female orgasms cause global warming\\nsarca...   872928"
      ]
     },
     "execution_count": 253,
     "metadata": {},
     "output_type": "execute_result"
    }
   ],
   "source": [
    "clean_test = text_preprocessing(test_data)\n",
    "clean_test.head()"
   ]
  },
  {
   "cell_type": "markdown",
   "metadata": {},
   "source": [
    "### Tokenisation  "
   ]
  },
  {
   "cell_type": "code",
   "execution_count": 254,
   "metadata": {},
   "outputs": [],
   "source": [
    "def tokens(df_text, column_name):\n",
    "    \n",
    "    # Instantiate TweetTokenizer\n",
    "    tknzr = TweetTokenizer(reduce_len = True)\n",
    "    \n",
    "    # Format the message column using TweetTokenizer\n",
    "    df_text[column_name] = df_text[column_name].apply(tknzr.tokenize)\n",
    "    \n",
    "    return df_text"
   ]
  },
  {
   "cell_type": "code",
   "execution_count": 255,
   "metadata": {
    "scrolled": false
   },
   "outputs": [
    {
     "data": {
      "text/html": [
       "<div>\n",
       "<style scoped>\n",
       "    .dataframe tbody tr th:only-of-type {\n",
       "        vertical-align: middle;\n",
       "    }\n",
       "\n",
       "    .dataframe tbody tr th {\n",
       "        vertical-align: top;\n",
       "    }\n",
       "\n",
       "    .dataframe thead th {\n",
       "        text-align: right;\n",
       "    }\n",
       "</style>\n",
       "<table border=\"1\" class=\"dataframe\">\n",
       "  <thead>\n",
       "    <tr style=\"text-align: right;\">\n",
       "      <th></th>\n",
       "      <th>sentiment</th>\n",
       "      <th>message</th>\n",
       "      <th>tweetid</th>\n",
       "    </tr>\n",
       "  </thead>\n",
       "  <tbody>\n",
       "    <tr>\n",
       "      <th>0</th>\n",
       "      <td>1</td>\n",
       "      <td>[polyscimajor, epa, chief, doesnt, think, carb...</td>\n",
       "      <td>625221</td>\n",
       "    </tr>\n",
       "    <tr>\n",
       "      <th>1</th>\n",
       "      <td>1</td>\n",
       "      <td>[its, not, like, we, lack, evidence, of, anthr...</td>\n",
       "      <td>126103</td>\n",
       "    </tr>\n",
       "    <tr>\n",
       "      <th>2</th>\n",
       "      <td>2</td>\n",
       "      <td>[rt, researchers, say, we, have, three, years,...</td>\n",
       "      <td>698562</td>\n",
       "    </tr>\n",
       "    <tr>\n",
       "      <th>3</th>\n",
       "      <td>1</td>\n",
       "      <td>[todayinmaker, wired, was, a, pivotal, year, i...</td>\n",
       "      <td>573736</td>\n",
       "    </tr>\n",
       "    <tr>\n",
       "      <th>4</th>\n",
       "      <td>1</td>\n",
       "      <td>[rt, its, and, a, racist, sexist, climate, cha...</td>\n",
       "      <td>466954</td>\n",
       "    </tr>\n",
       "  </tbody>\n",
       "</table>\n",
       "</div>"
      ],
      "text/plain": [
       "   sentiment                                            message  tweetid\n",
       "0          1  [polyscimajor, epa, chief, doesnt, think, carb...   625221\n",
       "1          1  [its, not, like, we, lack, evidence, of, anthr...   126103\n",
       "2          2  [rt, researchers, say, we, have, three, years,...   698562\n",
       "3          1  [todayinmaker, wired, was, a, pivotal, year, i...   573736\n",
       "4          1  [rt, its, and, a, racist, sexist, climate, cha...   466954"
      ]
     },
     "execution_count": 255,
     "metadata": {},
     "output_type": "execute_result"
    }
   ],
   "source": [
    "tokens_train = tokens(clean_train, 'message')\n",
    "tokens_train.head()"
   ]
  },
  {
   "cell_type": "code",
   "execution_count": 256,
   "metadata": {},
   "outputs": [
    {
     "data": {
      "text/html": [
       "<div>\n",
       "<style scoped>\n",
       "    .dataframe tbody tr th:only-of-type {\n",
       "        vertical-align: middle;\n",
       "    }\n",
       "\n",
       "    .dataframe tbody tr th {\n",
       "        vertical-align: top;\n",
       "    }\n",
       "\n",
       "    .dataframe thead th {\n",
       "        text-align: right;\n",
       "    }\n",
       "</style>\n",
       "<table border=\"1\" class=\"dataframe\">\n",
       "  <thead>\n",
       "    <tr style=\"text-align: right;\">\n",
       "      <th></th>\n",
       "      <th>message</th>\n",
       "      <th>tweetid</th>\n",
       "    </tr>\n",
       "  </thead>\n",
       "  <tbody>\n",
       "    <tr>\n",
       "      <th>0</th>\n",
       "      <td>[europe, will, now, be, looking, to, china, to...</td>\n",
       "      <td>169760</td>\n",
       "    </tr>\n",
       "    <tr>\n",
       "      <th>1</th>\n",
       "      <td>[combine, this, with, the, polling, of, staffe...</td>\n",
       "      <td>35326</td>\n",
       "    </tr>\n",
       "    <tr>\n",
       "      <th>2</th>\n",
       "      <td>[the, scary, unimpeachable, evidence, that, cl...</td>\n",
       "      <td>224985</td>\n",
       "    </tr>\n",
       "    <tr>\n",
       "      <th>3</th>\n",
       "      <td>[putin, got, to, you, too, jill, trump, doesnt...</td>\n",
       "      <td>476263</td>\n",
       "    </tr>\n",
       "    <tr>\n",
       "      <th>4</th>\n",
       "      <td>[rt, female, orgasms, cause, global, warming, ...</td>\n",
       "      <td>872928</td>\n",
       "    </tr>\n",
       "  </tbody>\n",
       "</table>\n",
       "</div>"
      ],
      "text/plain": [
       "                                             message  tweetid\n",
       "0  [europe, will, now, be, looking, to, china, to...   169760\n",
       "1  [combine, this, with, the, polling, of, staffe...    35326\n",
       "2  [the, scary, unimpeachable, evidence, that, cl...   224985\n",
       "3  [putin, got, to, you, too, jill, trump, doesnt...   476263\n",
       "4  [rt, female, orgasms, cause, global, warming, ...   872928"
      ]
     },
     "execution_count": 256,
     "metadata": {},
     "output_type": "execute_result"
    }
   ],
   "source": [
    "tokens_test = tokens(clean_test, 'message')\n",
    "tokens_test.head()"
   ]
  },
  {
   "cell_type": "markdown",
   "metadata": {},
   "source": [
    "### Stopwords Removal"
   ]
  },
  {
   "cell_type": "code",
   "execution_count": 257,
   "metadata": {},
   "outputs": [],
   "source": [
    "def stop(df_text, column_name):\n",
    "    \n",
    "    # fuction that returns tokenized words which are not 'rt'\n",
    "    rt = lambda tweets: [tweet for tweet in tweets if tweet != 'rt']\n",
    "    \n",
    "    # removing all 'rt'instances from each observation\n",
    "    df_text[column_name] = df_text[column_name].apply(rt)\n",
    "    \n",
    "    # words in a tokenized dataframe that do not appear in a stopwords set\n",
    "    stops = lambda tweets: [tweet for tweet in tweets if tweet not in sw('en')]\n",
    "    \n",
    "    # removing all stopwords from the dataframe\n",
    "    df_text[column_name] = df_text[column_name].apply(stops)\n",
    "    \n",
    "    return df_text"
   ]
  },
  {
   "cell_type": "code",
   "execution_count": 258,
   "metadata": {},
   "outputs": [
    {
     "data": {
      "text/html": [
       "<div>\n",
       "<style scoped>\n",
       "    .dataframe tbody tr th:only-of-type {\n",
       "        vertical-align: middle;\n",
       "    }\n",
       "\n",
       "    .dataframe tbody tr th {\n",
       "        vertical-align: top;\n",
       "    }\n",
       "\n",
       "    .dataframe thead th {\n",
       "        text-align: right;\n",
       "    }\n",
       "</style>\n",
       "<table border=\"1\" class=\"dataframe\">\n",
       "  <thead>\n",
       "    <tr style=\"text-align: right;\">\n",
       "      <th></th>\n",
       "      <th>message</th>\n",
       "      <th>tweetid</th>\n",
       "    </tr>\n",
       "  </thead>\n",
       "  <tbody>\n",
       "    <tr>\n",
       "      <th>0</th>\n",
       "      <td>[europe, china, fighting, climate, change]</td>\n",
       "      <td>169760</td>\n",
       "    </tr>\n",
       "    <tr>\n",
       "      <th>1</th>\n",
       "      <td>[combine, polling, staffers, climate, change, ...</td>\n",
       "      <td>35326</td>\n",
       "    </tr>\n",
       "    <tr>\n",
       "      <th>2</th>\n",
       "      <td>[scary, unimpeachable, evidence, climate, chan...</td>\n",
       "      <td>224985</td>\n",
       "    </tr>\n",
       "    <tr>\n",
       "      <th>3</th>\n",
       "      <td>[putin, jill, trump, climate, change, hoax]</td>\n",
       "      <td>476263</td>\n",
       "    </tr>\n",
       "    <tr>\n",
       "      <th>4</th>\n",
       "      <td>[female, orgasms, global, warming, sarcastic, ...</td>\n",
       "      <td>872928</td>\n",
       "    </tr>\n",
       "  </tbody>\n",
       "</table>\n",
       "</div>"
      ],
      "text/plain": [
       "                                             message  tweetid\n",
       "0         [europe, china, fighting, climate, change]   169760\n",
       "1  [combine, polling, staffers, climate, change, ...    35326\n",
       "2  [scary, unimpeachable, evidence, climate, chan...   224985\n",
       "3        [putin, jill, trump, climate, change, hoax]   476263\n",
       "4  [female, orgasms, global, warming, sarcastic, ...   872928"
      ]
     },
     "execution_count": 258,
     "metadata": {},
     "output_type": "execute_result"
    }
   ],
   "source": [
    "stops_test = stop(tokens_test, 'message')\n",
    "stops_test.head()"
   ]
  },
  {
   "cell_type": "code",
   "execution_count": 259,
   "metadata": {},
   "outputs": [
    {
     "data": {
      "text/html": [
       "<div>\n",
       "<style scoped>\n",
       "    .dataframe tbody tr th:only-of-type {\n",
       "        vertical-align: middle;\n",
       "    }\n",
       "\n",
       "    .dataframe tbody tr th {\n",
       "        vertical-align: top;\n",
       "    }\n",
       "\n",
       "    .dataframe thead th {\n",
       "        text-align: right;\n",
       "    }\n",
       "</style>\n",
       "<table border=\"1\" class=\"dataframe\">\n",
       "  <thead>\n",
       "    <tr style=\"text-align: right;\">\n",
       "      <th></th>\n",
       "      <th>sentiment</th>\n",
       "      <th>message</th>\n",
       "      <th>tweetid</th>\n",
       "    </tr>\n",
       "  </thead>\n",
       "  <tbody>\n",
       "    <tr>\n",
       "      <th>0</th>\n",
       "      <td>1</td>\n",
       "      <td>[polyscimajor, epa, chief, carbon, dioxide, ma...</td>\n",
       "      <td>625221</td>\n",
       "    </tr>\n",
       "    <tr>\n",
       "      <th>1</th>\n",
       "      <td>1</td>\n",
       "      <td>[lack, evidence, anthropogenic, global, warming]</td>\n",
       "      <td>126103</td>\n",
       "    </tr>\n",
       "    <tr>\n",
       "      <th>2</th>\n",
       "      <td>2</td>\n",
       "      <td>[researchers, climate, change, late]</td>\n",
       "      <td>698562</td>\n",
       "    </tr>\n",
       "    <tr>\n",
       "      <th>3</th>\n",
       "      <td>1</td>\n",
       "      <td>[todayinmaker, wired, pivotal, war, climate, c...</td>\n",
       "      <td>573736</td>\n",
       "    </tr>\n",
       "    <tr>\n",
       "      <th>4</th>\n",
       "      <td>1</td>\n",
       "      <td>[racist, sexist, climate, change, denying, big...</td>\n",
       "      <td>466954</td>\n",
       "    </tr>\n",
       "  </tbody>\n",
       "</table>\n",
       "</div>"
      ],
      "text/plain": [
       "   sentiment                                            message  tweetid\n",
       "0          1  [polyscimajor, epa, chief, carbon, dioxide, ma...   625221\n",
       "1          1   [lack, evidence, anthropogenic, global, warming]   126103\n",
       "2          2               [researchers, climate, change, late]   698562\n",
       "3          1  [todayinmaker, wired, pivotal, war, climate, c...   573736\n",
       "4          1  [racist, sexist, climate, change, denying, big...   466954"
      ]
     },
     "execution_count": 259,
     "metadata": {},
     "output_type": "execute_result"
    }
   ],
   "source": [
    "stops_train = stop(tokens_train, 'message')\n",
    "stops_train.head()"
   ]
  },
  {
   "cell_type": "markdown",
   "metadata": {},
   "source": [
    "###  Lemmatizaton"
   ]
  },
  {
   "cell_type": "code",
   "execution_count": 260,
   "metadata": {
    "scrolled": true
   },
   "outputs": [
    {
     "data": {
      "text/html": [
       "<div>\n",
       "<style scoped>\n",
       "    .dataframe tbody tr th:only-of-type {\n",
       "        vertical-align: middle;\n",
       "    }\n",
       "\n",
       "    .dataframe tbody tr th {\n",
       "        vertical-align: top;\n",
       "    }\n",
       "\n",
       "    .dataframe thead th {\n",
       "        text-align: right;\n",
       "    }\n",
       "</style>\n",
       "<table border=\"1\" class=\"dataframe\">\n",
       "  <thead>\n",
       "    <tr style=\"text-align: right;\">\n",
       "      <th></th>\n",
       "      <th>sentiment</th>\n",
       "      <th>message</th>\n",
       "      <th>tweetid</th>\n",
       "    </tr>\n",
       "  </thead>\n",
       "  <tbody>\n",
       "    <tr>\n",
       "      <th>0</th>\n",
       "      <td>1</td>\n",
       "      <td>[polyscimajor, epa, chief, carbon, dioxide, ma...</td>\n",
       "      <td>625221</td>\n",
       "    </tr>\n",
       "    <tr>\n",
       "      <th>1</th>\n",
       "      <td>1</td>\n",
       "      <td>[lack, evidence, anthropogenic, global, warming]</td>\n",
       "      <td>126103</td>\n",
       "    </tr>\n",
       "    <tr>\n",
       "      <th>2</th>\n",
       "      <td>2</td>\n",
       "      <td>[researcher, climate, change, late]</td>\n",
       "      <td>698562</td>\n",
       "    </tr>\n",
       "    <tr>\n",
       "      <th>3</th>\n",
       "      <td>1</td>\n",
       "      <td>[todayinmaker, wired, pivotal, war, climate, c...</td>\n",
       "      <td>573736</td>\n",
       "    </tr>\n",
       "    <tr>\n",
       "      <th>4</th>\n",
       "      <td>1</td>\n",
       "      <td>[racist, sexist, climate, change, denying, big...</td>\n",
       "      <td>466954</td>\n",
       "    </tr>\n",
       "  </tbody>\n",
       "</table>\n",
       "</div>"
      ],
      "text/plain": [
       "   sentiment                                            message  tweetid\n",
       "0          1  [polyscimajor, epa, chief, carbon, dioxide, ma...   625221\n",
       "1          1   [lack, evidence, anthropogenic, global, warming]   126103\n",
       "2          2                [researcher, climate, change, late]   698562\n",
       "3          1  [todayinmaker, wired, pivotal, war, climate, c...   573736\n",
       "4          1  [racist, sexist, climate, change, denying, big...   466954"
      ]
     },
     "execution_count": 260,
     "metadata": {},
     "output_type": "execute_result"
    }
   ],
   "source": [
    "# Instantiate WordNetLemmatizer as lemmatizer\n",
    "lemmatizer = WordNetLemmatizer()\n",
    "\n",
    "# lemmatized dataframe  using the stops_train dataframe\n",
    "lemmatized_train = stops_train.copy()\n",
    "\n",
    "# Using lemmatizer on the message column \n",
    "lemmatized_train['message'] = stops_train['message'].apply(lambda sentence : [lemmatizer.lemmatize(word) for word in sentence])\n",
    "\n",
    "lemmatized_train.head()"
   ]
  },
  {
   "cell_type": "code",
   "execution_count": 261,
   "metadata": {},
   "outputs": [
    {
     "data": {
      "text/html": [
       "<div>\n",
       "<style scoped>\n",
       "    .dataframe tbody tr th:only-of-type {\n",
       "        vertical-align: middle;\n",
       "    }\n",
       "\n",
       "    .dataframe tbody tr th {\n",
       "        vertical-align: top;\n",
       "    }\n",
       "\n",
       "    .dataframe thead th {\n",
       "        text-align: right;\n",
       "    }\n",
       "</style>\n",
       "<table border=\"1\" class=\"dataframe\">\n",
       "  <thead>\n",
       "    <tr style=\"text-align: right;\">\n",
       "      <th></th>\n",
       "      <th>message</th>\n",
       "      <th>tweetid</th>\n",
       "    </tr>\n",
       "  </thead>\n",
       "  <tbody>\n",
       "    <tr>\n",
       "      <th>0</th>\n",
       "      <td>[europe, china, fighting, climate, change]</td>\n",
       "      <td>169760</td>\n",
       "    </tr>\n",
       "    <tr>\n",
       "      <th>1</th>\n",
       "      <td>[combine, polling, staffer, climate, change, w...</td>\n",
       "      <td>35326</td>\n",
       "    </tr>\n",
       "    <tr>\n",
       "      <th>2</th>\n",
       "      <td>[scary, unimpeachable, evidence, climate, chan...</td>\n",
       "      <td>224985</td>\n",
       "    </tr>\n",
       "    <tr>\n",
       "      <th>3</th>\n",
       "      <td>[putin, jill, trump, climate, change, hoax]</td>\n",
       "      <td>476263</td>\n",
       "    </tr>\n",
       "    <tr>\n",
       "      <th>4</th>\n",
       "      <td>[female, orgasm, global, warming, sarcastic, r...</td>\n",
       "      <td>872928</td>\n",
       "    </tr>\n",
       "  </tbody>\n",
       "</table>\n",
       "</div>"
      ],
      "text/plain": [
       "                                             message  tweetid\n",
       "0         [europe, china, fighting, climate, change]   169760\n",
       "1  [combine, polling, staffer, climate, change, w...    35326\n",
       "2  [scary, unimpeachable, evidence, climate, chan...   224985\n",
       "3        [putin, jill, trump, climate, change, hoax]   476263\n",
       "4  [female, orgasm, global, warming, sarcastic, r...   872928"
      ]
     },
     "execution_count": 261,
     "metadata": {},
     "output_type": "execute_result"
    }
   ],
   "source": [
    "# Create a new dataframe to be lemmatized using th stops_test dataframe\n",
    "lemmatized_test = stops_test.copy()\n",
    "\n",
    "# Use lemmatizer on the message column of the lemmatized_test dataframe\n",
    "lemmatized_test['message'] = stops_test['message'].apply(lambda sentence: [lemmatizer.lemmatize(word) for word in sentence])\n",
    "\n",
    "lemmatized_test.head()"
   ]
  },
  {
   "cell_type": "code",
   "execution_count": 262,
   "metadata": {
    "scrolled": true
   },
   "outputs": [
    {
     "data": {
      "text/html": [
       "<div>\n",
       "<style scoped>\n",
       "    .dataframe tbody tr th:only-of-type {\n",
       "        vertical-align: middle;\n",
       "    }\n",
       "\n",
       "    .dataframe tbody tr th {\n",
       "        vertical-align: top;\n",
       "    }\n",
       "\n",
       "    .dataframe thead th {\n",
       "        text-align: right;\n",
       "    }\n",
       "</style>\n",
       "<table border=\"1\" class=\"dataframe\">\n",
       "  <thead>\n",
       "    <tr style=\"text-align: right;\">\n",
       "      <th></th>\n",
       "      <th>sentiment</th>\n",
       "      <th>message</th>\n",
       "      <th>tweetid</th>\n",
       "    </tr>\n",
       "  </thead>\n",
       "  <tbody>\n",
       "    <tr>\n",
       "      <th>0</th>\n",
       "      <td>1</td>\n",
       "      <td>polyscimajor epa chief carbon dioxide main glo...</td>\n",
       "      <td>625221</td>\n",
       "    </tr>\n",
       "    <tr>\n",
       "      <th>1</th>\n",
       "      <td>1</td>\n",
       "      <td>lack evidence anthropogenic global warming</td>\n",
       "      <td>126103</td>\n",
       "    </tr>\n",
       "    <tr>\n",
       "      <th>2</th>\n",
       "      <td>2</td>\n",
       "      <td>researcher climate change late</td>\n",
       "      <td>698562</td>\n",
       "    </tr>\n",
       "    <tr>\n",
       "      <th>3</th>\n",
       "      <td>1</td>\n",
       "      <td>todayinmaker wired pivotal war climate change</td>\n",
       "      <td>573736</td>\n",
       "    </tr>\n",
       "    <tr>\n",
       "      <th>4</th>\n",
       "      <td>1</td>\n",
       "      <td>racist sexist climate change denying bigot lea...</td>\n",
       "      <td>466954</td>\n",
       "    </tr>\n",
       "  </tbody>\n",
       "</table>\n",
       "</div>"
      ],
      "text/plain": [
       "   sentiment                                            message  tweetid\n",
       "0          1  polyscimajor epa chief carbon dioxide main glo...   625221\n",
       "1          1         lack evidence anthropogenic global warming   126103\n",
       "2          2                     researcher climate change late   698562\n",
       "3          1      todayinmaker wired pivotal war climate change   573736\n",
       "4          1  racist sexist climate change denying bigot lea...   466954"
      ]
     },
     "execution_count": 262,
     "metadata": {},
     "output_type": "execute_result"
    }
   ],
   "source": [
    "# Joining lemmatized_train message column into sentences\n",
    "lemmatized_train['message'] = [' '.join(tweet) for tweet in lemmatized_train['message'].values]\n",
    "\n",
    "lemmatized_train.head()"
   ]
  },
  {
   "cell_type": "code",
   "execution_count": 263,
   "metadata": {},
   "outputs": [
    {
     "data": {
      "text/html": [
       "<div>\n",
       "<style scoped>\n",
       "    .dataframe tbody tr th:only-of-type {\n",
       "        vertical-align: middle;\n",
       "    }\n",
       "\n",
       "    .dataframe tbody tr th {\n",
       "        vertical-align: top;\n",
       "    }\n",
       "\n",
       "    .dataframe thead th {\n",
       "        text-align: right;\n",
       "    }\n",
       "</style>\n",
       "<table border=\"1\" class=\"dataframe\">\n",
       "  <thead>\n",
       "    <tr style=\"text-align: right;\">\n",
       "      <th></th>\n",
       "      <th>message</th>\n",
       "      <th>tweetid</th>\n",
       "    </tr>\n",
       "  </thead>\n",
       "  <tbody>\n",
       "    <tr>\n",
       "      <th>0</th>\n",
       "      <td>europe china fighting climate change</td>\n",
       "      <td>169760</td>\n",
       "    </tr>\n",
       "    <tr>\n",
       "      <th>1</th>\n",
       "      <td>combine polling staffer climate change woman r...</td>\n",
       "      <td>35326</td>\n",
       "    </tr>\n",
       "    <tr>\n",
       "      <th>2</th>\n",
       "      <td>scary unimpeachable evidence climate change it...</td>\n",
       "      <td>224985</td>\n",
       "    </tr>\n",
       "    <tr>\n",
       "      <th>3</th>\n",
       "      <td>putin jill trump climate change hoax</td>\n",
       "      <td>476263</td>\n",
       "    </tr>\n",
       "    <tr>\n",
       "      <th>4</th>\n",
       "      <td>female orgasm global warming sarcastic republican</td>\n",
       "      <td>872928</td>\n",
       "    </tr>\n",
       "  </tbody>\n",
       "</table>\n",
       "</div>"
      ],
      "text/plain": [
       "                                             message  tweetid\n",
       "0               europe china fighting climate change   169760\n",
       "1  combine polling staffer climate change woman r...    35326\n",
       "2  scary unimpeachable evidence climate change it...   224985\n",
       "3               putin jill trump climate change hoax   476263\n",
       "4  female orgasm global warming sarcastic republican   872928"
      ]
     },
     "execution_count": 263,
     "metadata": {},
     "output_type": "execute_result"
    }
   ],
   "source": [
    "# Joining lemmatized_test message column into sentence \n",
    "lemmatized_test['message'] = [' '.join(tweet) for tweet in lemmatized_test['message'].values]\n",
    "lemmatized_test.head()"
   ]
  },
  {
   "cell_type": "markdown",
   "metadata": {},
   "source": [
    "### Exploratory Data Analysis"
   ]
  },
  {
   "cell_type": "markdown",
   "metadata": {},
   "source": [
    "**There are four distinct classes**:\n",
    "   - Pro (1): Indicating individuals who believe climate change is human driven.\n",
    "    \n",
    "   - Neutral (0): Indicating individuals who are not convinced in either direction.\n",
    "    \n",
    "   - Anti (-1): Indicating individuals who believe climate change is a natural occurence.\n",
    "    \n",
    "   - News (2): Indicates tweets related actuals news stories."
   ]
  },
  {
   "cell_type": "code",
   "execution_count": 264,
   "metadata": {},
   "outputs": [
    {
     "data": {
      "text/html": [
       "<div>\n",
       "<style scoped>\n",
       "    .dataframe tbody tr th:only-of-type {\n",
       "        vertical-align: middle;\n",
       "    }\n",
       "\n",
       "    .dataframe tbody tr th {\n",
       "        vertical-align: top;\n",
       "    }\n",
       "\n",
       "    .dataframe thead th {\n",
       "        text-align: right;\n",
       "    }\n",
       "</style>\n",
       "<table border=\"1\" class=\"dataframe\">\n",
       "  <thead>\n",
       "    <tr style=\"text-align: right;\">\n",
       "      <th></th>\n",
       "      <th>sentiment</th>\n",
       "      <th>message</th>\n",
       "    </tr>\n",
       "  </thead>\n",
       "  <tbody>\n",
       "    <tr>\n",
       "      <th>2</th>\n",
       "      <td>1</td>\n",
       "      <td>8530</td>\n",
       "    </tr>\n",
       "    <tr>\n",
       "      <th>3</th>\n",
       "      <td>2</td>\n",
       "      <td>3640</td>\n",
       "    </tr>\n",
       "    <tr>\n",
       "      <th>1</th>\n",
       "      <td>0</td>\n",
       "      <td>2353</td>\n",
       "    </tr>\n",
       "    <tr>\n",
       "      <th>0</th>\n",
       "      <td>-1</td>\n",
       "      <td>1296</td>\n",
       "    </tr>\n",
       "  </tbody>\n",
       "</table>\n",
       "</div>"
      ],
      "text/plain": [
       "   sentiment  message\n",
       "2          1     8530\n",
       "3          2     3640\n",
       "1          0     2353\n",
       "0         -1     1296"
      ]
     },
     "execution_count": 264,
     "metadata": {},
     "output_type": "execute_result"
    }
   ],
   "source": [
    "# Create a new dataframe by grouping tweets by sentiment and counting the number of tweets in each sentiment\n",
    "group = lemmatized_train.groupby('sentiment').count()['message'].reset_index().sort_values(by = 'message', ascending = False)\n",
    "group"
   ]
  },
  {
   "cell_type": "markdown",
   "metadata": {},
   "source": [
    "#### Bar Plot"
   ]
  },
  {
   "cell_type": "code",
   "execution_count": 265,
   "metadata": {
    "scrolled": false
   },
   "outputs": [
    {
     "data": {
      "text/plain": [
       "Text(0.5, 1.0, 'Number of Tweets Per Sentiment')"
      ]
     },
     "execution_count": 265,
     "metadata": {},
     "output_type": "execute_result"
    },
    {
     "data": {
      "image/png": "[encoded data removed]",
      "text/plain": [
       "<Figure size 432x288 with 1 Axes>"
      ]
     },
     "metadata": {
      "needs_background": "light"
     },
     "output_type": "display_data"
    }
   ],
   "source": [
    "#  visualiing the number of tweets per class\n",
    "fig = sns.barplot(x = ['Positive', 'News', 'Neutral', 'Negative'],y = group['message']) \n",
    "fig.set_xlabel('Sentiment')#x axis labels\n",
    "fig.set_ylabel('Tweets')#y axis labels\n",
    "fig.set_title('Number of Tweets Per Sentiment') #title"
   ]
  },
  {
   "cell_type": "markdown",
   "metadata": {},
   "source": [
    "### Predictor Analysis"
   ]
  },
  {
   "cell_type": "markdown",
   "metadata": {},
   "source": [
    "\n",
    "\n",
    "## Feature Extraction\n"
   ]
  },
  {
   "cell_type": "code",
   "execution_count": 297,
   "metadata": {},
   "outputs": [],
   "source": [
    "# Create a function that cleans the training data and prepares it for modelling\n",
    "def preprocessing(string):\n",
    "    \n",
    "    # Change the casing in the inputted string to lowercase\n",
    "    string = string.lower()\n",
    "    \n",
    "    # Remove url addresses from the string\n",
    "    string = re.sub(r\"http\\S+\", \"\", string)\n",
    "    \n",
    "    # Instantiate TweetTokenizer with an argument that allows for the stripping of twitter handles\n",
    "    tknzr = TweetTokenizer(strip_handles = True)\n",
    "    \n",
    "    # Tokenize the string using TweetTokenizer in order to remove twitter handles\n",
    "    string = tknzr.tokenize(string)\n",
    "    \n",
    "    # Join the tokenized words together into sentences \n",
    "    string = \" \".join(string)\n",
    "    \n",
    "    # Remove punctuation from the string \n",
    "    string = re.sub(r'[^a-z0-9\\s]', '', string)\n",
    "    string = re.sub(r'[0-9]+', '', string) # replace numbers or number like words with 'number'\n",
    "    \n",
    "    # Remove rt from the string\n",
    "    message = re.sub(r'^rt', '', string)\n",
    "    \n",
    "    # Return a new string which has been cleaned of noise\n",
    "    return message"
   ]
  },
  {
   "cell_type": "markdown",
   "metadata": {},
   "source": [
    "###  CountVectorizer"
   ]
  },
  {
   "cell_type": "code",
   "execution_count": 298,
   "metadata": {},
   "outputs": [
    {
     "data": {
      "text/html": [
       "<div>\n",
       "<style scoped>\n",
       "    .dataframe tbody tr th:only-of-type {\n",
       "        vertical-align: middle;\n",
       "    }\n",
       "\n",
       "    .dataframe tbody tr th {\n",
       "        vertical-align: top;\n",
       "    }\n",
       "\n",
       "    .dataframe thead th {\n",
       "        text-align: right;\n",
       "    }\n",
       "</style>\n",
       "<table border=\"1\" class=\"dataframe\">\n",
       "  <thead>\n",
       "    <tr style=\"text-align: right;\">\n",
       "      <th></th>\n",
       "      <th>sentiment</th>\n",
       "      <th>message</th>\n",
       "      <th>tweetid</th>\n",
       "    </tr>\n",
       "  </thead>\n",
       "  <tbody>\n",
       "    <tr>\n",
       "      <th>0</th>\n",
       "      <td>1</td>\n",
       "      <td>PolySciMajor EPA chief doesn't think carbon di...</td>\n",
       "      <td>625221</td>\n",
       "    </tr>\n",
       "    <tr>\n",
       "      <th>1</th>\n",
       "      <td>1</td>\n",
       "      <td>It's not like we lack evidence of anthropogeni...</td>\n",
       "      <td>126103</td>\n",
       "    </tr>\n",
       "    <tr>\n",
       "      <th>2</th>\n",
       "      <td>2</td>\n",
       "      <td>RT @RawStory: Researchers say we have three ye...</td>\n",
       "      <td>698562</td>\n",
       "    </tr>\n",
       "    <tr>\n",
       "      <th>3</th>\n",
       "      <td>1</td>\n",
       "      <td>#TodayinMaker# WIRED : 2016 was a pivotal year...</td>\n",
       "      <td>573736</td>\n",
       "    </tr>\n",
       "    <tr>\n",
       "      <th>4</th>\n",
       "      <td>1</td>\n",
       "      <td>RT @SoyNovioDeTodas: It's 2016, and a racist, ...</td>\n",
       "      <td>466954</td>\n",
       "    </tr>\n",
       "  </tbody>\n",
       "</table>\n",
       "</div>"
      ],
      "text/plain": [
       "   sentiment                                            message  tweetid\n",
       "0          1  PolySciMajor EPA chief doesn't think carbon di...   625221\n",
       "1          1  It's not like we lack evidence of anthropogeni...   126103\n",
       "2          2  RT @RawStory: Researchers say we have three ye...   698562\n",
       "3          1  #TodayinMaker# WIRED : 2016 was a pivotal year...   573736\n",
       "4          1  RT @SoyNovioDeTodas: It's 2016, and a racist, ...   466954"
      ]
     },
     "execution_count": 298,
     "metadata": {},
     "output_type": "execute_result"
    }
   ],
   "source": [
    "# Create a copy our the training data set, train_data, which will be used to build the models\n",
    "train_data = train.copy()\n",
    "train_data.head()"
   ]
  },
  {
   "cell_type": "code",
   "execution_count": 299,
   "metadata": {},
   "outputs": [
    {
     "data": {
      "text/plain": [
       "0        PolySciMajor EPA chief doesn't think carbon di...\n",
       "1        It's not like we lack evidence of anthropogeni...\n",
       "2        RT @RawStory: Researchers say we have three ye...\n",
       "3        #TodayinMaker# WIRED : 2016 was a pivotal year...\n",
       "4        RT @SoyNovioDeTodas: It's 2016, and a racist, ...\n",
       "                               ...                        \n",
       "15814    RT @ezlusztig: They took down the material on ...\n",
       "15815    RT @washingtonpost: How climate change could b...\n",
       "15816    notiven: RT: nytimesworld :What does Trump act...\n",
       "15817    RT @sara8smiles: Hey liberals the climate chan...\n",
       "15818    RT @Chet_Cannon: .@kurteichenwald's 'climate c...\n",
       "Name: message, Length: 15819, dtype: object"
      ]
     },
     "execution_count": 299,
     "metadata": {},
     "output_type": "execute_result"
    }
   ],
   "source": [
    "train_data['message']"
   ]
  },
  {
   "cell_type": "code",
   "execution_count": 300,
   "metadata": {},
   "outputs": [],
   "source": [
    "# sentiment column in the dataframe, train_data\n",
    "y = train_data.sentiment\n",
    "# message column in the dataframe, train_data\n",
    "predictors = train_data.message "
   ]
  },
  {
   "cell_type": "code",
   "execution_count": 301,
   "metadata": {},
   "outputs": [
    {
     "data": {
      "text/plain": [
       "0        1\n",
       "1        1\n",
       "2        2\n",
       "3        1\n",
       "4        1\n",
       "        ..\n",
       "15814    1\n",
       "15815    2\n",
       "15816    0\n",
       "15817   -1\n",
       "15818    0\n",
       "Name: sentiment, Length: 15819, dtype: int64"
      ]
     },
     "execution_count": 301,
     "metadata": {},
     "output_type": "execute_result"
    }
   ],
   "source": [
    "y"
   ]
  },
  {
   "cell_type": "code",
   "execution_count": 304,
   "metadata": {},
   "outputs": [
    {
     "data": {
      "text/plain": [
       "0        PolySciMajor EPA chief doesn't think carbon di...\n",
       "1        It's not like we lack evidence of anthropogeni...\n",
       "2        RT @RawStory: Researchers say we have three ye...\n",
       "3        #TodayinMaker# WIRED : 2016 was a pivotal year...\n",
       "4        RT @SoyNovioDeTodas: It's 2016, and a racist, ...\n",
       "                               ...                        \n",
       "15814    RT @ezlusztig: They took down the material on ...\n",
       "15815    RT @washingtonpost: How climate change could b...\n",
       "15816    notiven: RT: nytimesworld :What does Trump act...\n",
       "15817    RT @sara8smiles: Hey liberals the climate chan...\n",
       "15818    RT @Chet_Cannon: .@kurteichenwald's 'climate c...\n",
       "Name: message, Length: 15819, dtype: object"
      ]
     },
     "execution_count": 304,
     "metadata": {},
     "output_type": "execute_result"
    }
   ],
   "source": [
    "predictors"
   ]
  },
  {
   "cell_type": "code",
   "execution_count": 305,
   "metadata": {},
   "outputs": [],
   "source": [
    "# Instantiate CountVectorizer with the ngrams argument as cv\n",
    "cv = CountVectorizer(ngram_range =(1,2))\n",
    "# Use cv to vectorize the text data in the message columnn of the dataframe, creating a new vector, X\n",
    "X = cv.fit_transform(predictors)"
   ]
  },
  {
   "cell_type": "markdown",
   "metadata": {},
   "source": [
    "###  Train Test Split"
   ]
  },
  {
   "cell_type": "code",
   "execution_count": 306,
   "metadata": {},
   "outputs": [],
   "source": [
    "# Train test split is called on the variables X and y to create a training and validation set\n",
    "X_train, X_val, y_train, y_val = train_test_split(X, y, test_size = 0.2, random_state = 42)"
   ]
  },
  {
   "cell_type": "markdown",
   "metadata": {},
   "source": [
    "The data after splitting:"
   ]
  },
  {
   "cell_type": "markdown",
   "metadata": {},
   "source": [
    "##  Model Training"
   ]
  },
  {
   "cell_type": "markdown",
   "metadata": {},
   "source": [
    "###  Logistic Regression Classifier"
   ]
  },
  {
   "cell_type": "code",
   "execution_count": 307,
   "metadata": {},
   "outputs": [],
   "source": [
    "# Instantiate the Logistic Regression model as logreg\n",
    "logreg = LogisticRegression(multi_class = 'ovr', solver = 'liblinear', random_state = 42) "
   ]
  },
  {
   "cell_type": "code",
   "execution_count": 308,
   "metadata": {},
   "outputs": [
    {
     "data": {
      "text/plain": [
       "LogisticRegression(multi_class='ovr', random_state=42, solver='liblinear')"
      ]
     },
     "execution_count": 308,
     "metadata": {},
     "output_type": "execute_result"
    }
   ],
   "source": [
    "# Fit the model to our training data\n",
    "logreg.fit(X_train, y_train)"
   ]
  },
  {
   "cell_type": "code",
   "execution_count": 309,
   "metadata": {},
   "outputs": [],
   "source": [
    "# Make predictions on the validation set\n",
    "y_logreg = logreg.predict(X_val)"
   ]
  },
  {
   "cell_type": "markdown",
   "metadata": {},
   "source": [
    "####  Model Performance"
   ]
  },
  {
   "cell_type": "markdown",
   "metadata": {},
   "source": [
    "Model Accuracy Metrics Used\n",
    "- Confusion Matrix\n",
    "- Classification Report\n",
    "- F1_score "
   ]
  },
  {
   "cell_type": "code",
   "execution_count": 310,
   "metadata": {},
   "outputs": [],
   "source": [
    "# Define the labels to be used in the confusion matrix\n",
    "true_labels = ['true : Anti', 'true : Neutral', 'true : Pro', 'true : News']\n",
    "pred_labels = ['pred : Anti', 'pred : Neutral', 'pred : Pro', 'pred : News']\n",
    "type_labels = ['-1 : Anti', '0 : Neutral', '1 : Pro', '2 : News']"
   ]
  },
  {
   "cell_type": "code",
   "execution_count": 311,
   "metadata": {},
   "outputs": [
    {
     "data": {
      "text/html": [
       "<div>\n",
       "<style scoped>\n",
       "    .dataframe tbody tr th:only-of-type {\n",
       "        vertical-align: middle;\n",
       "    }\n",
       "\n",
       "    .dataframe tbody tr th {\n",
       "        vertical-align: top;\n",
       "    }\n",
       "\n",
       "    .dataframe thead th {\n",
       "        text-align: right;\n",
       "    }\n",
       "</style>\n",
       "<table border=\"1\" class=\"dataframe\">\n",
       "  <thead>\n",
       "    <tr style=\"text-align: right;\">\n",
       "      <th></th>\n",
       "      <th>pred : Anti</th>\n",
       "      <th>pred : Neutral</th>\n",
       "      <th>pred : Pro</th>\n",
       "      <th>pred : News</th>\n",
       "    </tr>\n",
       "  </thead>\n",
       "  <tbody>\n",
       "    <tr>\n",
       "      <th>true : Anti</th>\n",
       "      <td>118</td>\n",
       "      <td>49</td>\n",
       "      <td>101</td>\n",
       "      <td>10</td>\n",
       "    </tr>\n",
       "    <tr>\n",
       "      <th>true : Neutral</th>\n",
       "      <td>13</td>\n",
       "      <td>197</td>\n",
       "      <td>186</td>\n",
       "      <td>29</td>\n",
       "    </tr>\n",
       "    <tr>\n",
       "      <th>true : Pro</th>\n",
       "      <td>13</td>\n",
       "      <td>69</td>\n",
       "      <td>1542</td>\n",
       "      <td>131</td>\n",
       "    </tr>\n",
       "    <tr>\n",
       "      <th>true : News</th>\n",
       "      <td>6</td>\n",
       "      <td>11</td>\n",
       "      <td>124</td>\n",
       "      <td>565</td>\n",
       "    </tr>\n",
       "  </tbody>\n",
       "</table>\n",
       "</div>"
      ],
      "text/plain": [
       "                pred : Anti  pred : Neutral  pred : Pro  pred : News\n",
       "true : Anti             118              49         101           10\n",
       "true : Neutral           13             197         186           29\n",
       "true : Pro               13              69        1542          131\n",
       "true : News               6              11         124          565"
      ]
     },
     "execution_count": 311,
     "metadata": {},
     "output_type": "execute_result"
    }
   ],
   "source": [
    "# Create the confusion matrix dataframe to visualise the number of correctly predicted observations\n",
    "pd.DataFrame(data = confusion_matrix(y_val, y_logreg), index = true_labels, columns = pred_labels)"
   ]
  },
  {
   "cell_type": "code",
   "execution_count": 312,
   "metadata": {},
   "outputs": [
    {
     "name": "stdout",
     "output_type": "stream",
     "text": [
      "              precision    recall  f1-score   support\n",
      "\n",
      "   -1 : Anti       0.79      0.42      0.55       278\n",
      " 0 : Neutral       0.60      0.46      0.52       425\n",
      "     1 : Pro       0.79      0.88      0.83      1755\n",
      "    2 : News       0.77      0.80      0.78       706\n",
      "\n",
      "    accuracy                           0.77      3164\n",
      "   macro avg       0.74      0.64      0.67      3164\n",
      "weighted avg       0.76      0.77      0.76      3164\n",
      "\n"
     ]
    }
   ],
   "source": [
    "# Create a classification report from the validation set\n",
    "logreg_report = classification_report(y_val, y_logreg, target_names=type_labels)\n",
    "\n",
    "# Print out the classification report \n",
    "print(logreg_report)"
   ]
  },
  {
   "cell_type": "markdown",
   "metadata": {},
   "source": [
    "The imbalance in the data is evident in the classification report scores.  "
   ]
  },
  {
   "cell_type": "markdown",
   "metadata": {},
   "source": [
    "**F1 Score**"
   ]
  },
  {
   "cell_type": "code",
   "execution_count": 313,
   "metadata": {},
   "outputs": [
    {
     "name": "stdout",
     "output_type": "stream",
     "text": [
      "This is the accuracy for the basic LogisticRegression classifier: 0.7552303135207981\n"
     ]
    }
   ],
   "source": [
    "f1_score_logreg = f1_score(y_val,y_logreg,average =\"weighted\") \n",
    "print(f'This is the accuracy for the basic LogisticRegression classifier: {f1_score_logreg}')"
   ]
  },
  {
   "cell_type": "markdown",
   "metadata": {},
   "source": [
    "###  SMOTE Logistic Regression Classifier"
   ]
  },
  {
   "cell_type": "code",
   "execution_count": 314,
   "metadata": {},
   "outputs": [],
   "source": [
    "# Instantiate SMOTE as sm\n",
    "sm = SMOTE(random_state = 42) "
   ]
  },
  {
   "cell_type": "code",
   "execution_count": 315,
   "metadata": {},
   "outputs": [],
   "source": [
    "# Fit the SMOTE model on the training data\n",
    "X_res, y_res = sm.fit_resample(X_train, y_train) "
   ]
  },
  {
   "cell_type": "code",
   "execution_count": 316,
   "metadata": {},
   "outputs": [],
   "source": [
    "# Instantiate a Logistic Regression model to use with the resampled data as logreg_smote \n",
    "logreg_smote = LogisticRegression(multi_class = 'ovr', solver = 'liblinear', random_state = 42)"
   ]
  },
  {
   "cell_type": "code",
   "execution_count": 317,
   "metadata": {},
   "outputs": [
    {
     "data": {
      "text/plain": [
       "LogisticRegression(multi_class='ovr', random_state=42, solver='liblinear')"
      ]
     },
     "execution_count": 317,
     "metadata": {},
     "output_type": "execute_result"
    }
   ],
   "source": [
    "# Fit the logistic regression model on the resampled data\n",
    "logreg_smote.fit(X_res, y_res)"
   ]
  },
  {
   "cell_type": "code",
   "execution_count": 318,
   "metadata": {},
   "outputs": [],
   "source": [
    "# Predict on the validation set\n",
    "y_logreg_smote = logreg_smote.predict(X_val)"
   ]
  },
  {
   "cell_type": "markdown",
   "metadata": {},
   "source": [
    "####  Model Performance "
   ]
  },
  {
   "cell_type": "markdown",
   "metadata": {},
   "source": [
    "Model Accuracy Metrics Used\n",
    "- Confusion Matrix\n",
    "- Classification Report\n",
    "- F1_score "
   ]
  },
  {
   "cell_type": "markdown",
   "metadata": {},
   "source": [
    "**Confusion Matrix**"
   ]
  },
  {
   "cell_type": "code",
   "execution_count": 319,
   "metadata": {},
   "outputs": [
    {
     "data": {
      "text/html": [
       "<div>\n",
       "<style scoped>\n",
       "    .dataframe tbody tr th:only-of-type {\n",
       "        vertical-align: middle;\n",
       "    }\n",
       "\n",
       "    .dataframe tbody tr th {\n",
       "        vertical-align: top;\n",
       "    }\n",
       "\n",
       "    .dataframe thead th {\n",
       "        text-align: right;\n",
       "    }\n",
       "</style>\n",
       "<table border=\"1\" class=\"dataframe\">\n",
       "  <thead>\n",
       "    <tr style=\"text-align: right;\">\n",
       "      <th></th>\n",
       "      <th>pred : Anti</th>\n",
       "      <th>pred : Neutral</th>\n",
       "      <th>pred : Pro</th>\n",
       "      <th>pred : News</th>\n",
       "    </tr>\n",
       "  </thead>\n",
       "  <tbody>\n",
       "    <tr>\n",
       "      <th>true : Anti</th>\n",
       "      <td>155</td>\n",
       "      <td>49</td>\n",
       "      <td>62</td>\n",
       "      <td>12</td>\n",
       "    </tr>\n",
       "    <tr>\n",
       "      <th>true : Neutral</th>\n",
       "      <td>51</td>\n",
       "      <td>196</td>\n",
       "      <td>139</td>\n",
       "      <td>39</td>\n",
       "    </tr>\n",
       "    <tr>\n",
       "      <th>true : Pro</th>\n",
       "      <td>46</td>\n",
       "      <td>110</td>\n",
       "      <td>1409</td>\n",
       "      <td>190</td>\n",
       "    </tr>\n",
       "    <tr>\n",
       "      <th>true : News</th>\n",
       "      <td>15</td>\n",
       "      <td>9</td>\n",
       "      <td>90</td>\n",
       "      <td>592</td>\n",
       "    </tr>\n",
       "  </tbody>\n",
       "</table>\n",
       "</div>"
      ],
      "text/plain": [
       "                pred : Anti  pred : Neutral  pred : Pro  pred : News\n",
       "true : Anti             155              49          62           12\n",
       "true : Neutral           51             196         139           39\n",
       "true : Pro               46             110        1409          190\n",
       "true : News              15               9          90          592"
      ]
     },
     "execution_count": 319,
     "metadata": {},
     "output_type": "execute_result"
    }
   ],
   "source": [
    "# Create a confusion matrix on the validation data\n",
    "pd.DataFrame(data = confusion_matrix(y_val, y_logreg_smote), index = true_labels, columns = pred_labels)"
   ]
  },
  {
   "cell_type": "markdown",
   "metadata": {},
   "source": [
    "**Classifiction Report** "
   ]
  },
  {
   "cell_type": "code",
   "execution_count": 320,
   "metadata": {},
   "outputs": [
    {
     "name": "stdout",
     "output_type": "stream",
     "text": [
      "              precision    recall  f1-score   support\n",
      "\n",
      "   -1 : Anti       0.58      0.56      0.57       278\n",
      " 0 : Neutral       0.54      0.46      0.50       425\n",
      "     1 : Pro       0.83      0.80      0.82      1755\n",
      "    2 : News       0.71      0.84      0.77       706\n",
      "\n",
      "    accuracy                           0.74      3164\n",
      "   macro avg       0.66      0.67      0.66      3164\n",
      "weighted avg       0.74      0.74      0.74      3164\n",
      "\n"
     ]
    }
   ],
   "source": [
    "# classification report on the validation set\n",
    "smote_report = classification_report(y_val, y_logreg_smote, target_names = type_labels)\n",
    "\n",
    "# Print the classification report\n",
    "print(smote_report)"
   ]
  },
  {
   "cell_type": "markdown",
   "metadata": {},
   "source": [
    "**F1 Score**"
   ]
  },
  {
   "cell_type": "code",
   "execution_count": 321,
   "metadata": {},
   "outputs": [
    {
     "name": "stdout",
     "output_type": "stream",
     "text": [
      "This is the accuracy for the basic LogisticRegression classifier: 0.7407898575509724\n"
     ]
    }
   ],
   "source": [
    "# Calcuate the f1 score on the validation set\n",
    "f1_score_logreg_smote = f1_score(y_val, y_logreg_smote, average = \"weighted\")\n",
    "\n",
    "# Print the f1 score\n",
    "print(f'This is the accuracy for the basic LogisticRegression classifier: {f1_score_logreg_smote}')"
   ]
  },
  {
   "cell_type": "markdown",
   "metadata": {},
   "source": [
    "**Comparison**"
   ]
  },
  {
   "cell_type": "code",
   "execution_count": 322,
   "metadata": {},
   "outputs": [
    {
     "data": {
      "text/html": [
       "<div>\n",
       "<style scoped>\n",
       "    .dataframe tbody tr th:only-of-type {\n",
       "        vertical-align: middle;\n",
       "    }\n",
       "\n",
       "    .dataframe tbody tr th {\n",
       "        vertical-align: top;\n",
       "    }\n",
       "\n",
       "    .dataframe thead th {\n",
       "        text-align: right;\n",
       "    }\n",
       "</style>\n",
       "<table border=\"1\" class=\"dataframe\">\n",
       "  <thead>\n",
       "    <tr style=\"text-align: right;\">\n",
       "      <th></th>\n",
       "      <th>f1_score</th>\n",
       "    </tr>\n",
       "  </thead>\n",
       "  <tbody>\n",
       "    <tr>\n",
       "      <th>logreg(no smote)</th>\n",
       "      <td>0.75523</td>\n",
       "    </tr>\n",
       "    <tr>\n",
       "      <th>logreg(with smote)</th>\n",
       "      <td>0.74079</td>\n",
       "    </tr>\n",
       "  </tbody>\n",
       "</table>\n",
       "</div>"
      ],
      "text/plain": [
       "                    f1_score\n",
       "logreg(no smote)     0.75523\n",
       "logreg(with smote)   0.74079"
      ]
     },
     "execution_count": 322,
     "metadata": {},
     "output_type": "execute_result"
    }
   ],
   "source": [
    "# Create a dataframe to show the f1 scores of the basic logistic regression model vs the smote logistic regression model\n",
    "\n",
    "# Create a list of f1 scores\n",
    "f1_scores = [f1_score_logreg, f1_score_logreg_smote]\n",
    "\n",
    "# Create a list to use as row labels\n",
    "models = [\"logreg(no smote)\",\"logreg(with smote)\"] \n",
    "\n",
    "# Create metric column name list\n",
    "metrics = ['f1_score']\n",
    "\n",
    "# Create the dataframe\n",
    "model_df = pd.DataFrame(data = f1_scores, index = models, columns = metrics)\n",
    "\n",
    "# Display the first 5 rows of the new dataframe\n",
    "model_df.head()"
   ]
  },
  {
   "cell_type": "markdown",
   "metadata": {},
   "source": [
    "###   Support Vector Classifier"
   ]
  },
  {
   "cell_type": "code",
   "execution_count": 372,
   "metadata": {},
   "outputs": [],
   "source": [
    "# Instantiate the support vector classifier model as svm_clf \n",
    "svm_clf = SVC(C = 12, gamma = 0.01)"
   ]
  },
  {
   "cell_type": "code",
   "execution_count": 373,
   "metadata": {},
   "outputs": [
    {
     "data": {
      "text/plain": [
       "SVC(C=12, gamma=0.01)"
      ]
     },
     "execution_count": 373,
     "metadata": {},
     "output_type": "execute_result"
    }
   ],
   "source": [
    "# Fit the model on the training data\n",
    "svm_clf.fit(X_train, y_train)"
   ]
  },
  {
   "cell_type": "code",
   "execution_count": 374,
   "metadata": {},
   "outputs": [],
   "source": [
    "# Predict on the validation set\n",
    "y_svm_CV = svm_clf.predict(X_val)"
   ]
  },
  {
   "cell_type": "markdown",
   "metadata": {},
   "source": [
    "#### Model Performance"
   ]
  },
  {
   "cell_type": "markdown",
   "metadata": {},
   "source": [
    "Model Accuracy Metrics Used\n",
    "- Confusion Matrix\n",
    "- Classification Report\n",
    "- F1_score "
   ]
  },
  {
   "cell_type": "markdown",
   "metadata": {},
   "source": [
    "**Confusion Matrix**"
   ]
  },
  {
   "cell_type": "code",
   "execution_count": 326,
   "metadata": {},
   "outputs": [
    {
     "data": {
      "text/html": [
       "<div>\n",
       "<style scoped>\n",
       "    .dataframe tbody tr th:only-of-type {\n",
       "        vertical-align: middle;\n",
       "    }\n",
       "\n",
       "    .dataframe tbody tr th {\n",
       "        vertical-align: top;\n",
       "    }\n",
       "\n",
       "    .dataframe thead th {\n",
       "        text-align: right;\n",
       "    }\n",
       "</style>\n",
       "<table border=\"1\" class=\"dataframe\">\n",
       "  <thead>\n",
       "    <tr style=\"text-align: right;\">\n",
       "      <th></th>\n",
       "      <th>pred : Anti</th>\n",
       "      <th>pred : Neutral</th>\n",
       "      <th>pred : Pro</th>\n",
       "      <th>pred : News</th>\n",
       "    </tr>\n",
       "  </thead>\n",
       "  <tbody>\n",
       "    <tr>\n",
       "      <th>true : Anti</th>\n",
       "      <td>119</td>\n",
       "      <td>48</td>\n",
       "      <td>104</td>\n",
       "      <td>7</td>\n",
       "    </tr>\n",
       "    <tr>\n",
       "      <th>true : Neutral</th>\n",
       "      <td>12</td>\n",
       "      <td>190</td>\n",
       "      <td>204</td>\n",
       "      <td>19</td>\n",
       "    </tr>\n",
       "    <tr>\n",
       "      <th>true : Pro</th>\n",
       "      <td>12</td>\n",
       "      <td>73</td>\n",
       "      <td>1547</td>\n",
       "      <td>123</td>\n",
       "    </tr>\n",
       "    <tr>\n",
       "      <th>true : News</th>\n",
       "      <td>2</td>\n",
       "      <td>12</td>\n",
       "      <td>128</td>\n",
       "      <td>564</td>\n",
       "    </tr>\n",
       "  </tbody>\n",
       "</table>\n",
       "</div>"
      ],
      "text/plain": [
       "                pred : Anti  pred : Neutral  pred : Pro  pred : News\n",
       "true : Anti             119              48         104            7\n",
       "true : Neutral           12             190         204           19\n",
       "true : Pro               12              73        1547          123\n",
       "true : News               2              12         128          564"
      ]
     },
     "execution_count": 326,
     "metadata": {},
     "output_type": "execute_result"
    }
   ],
   "source": [
    "# Create a dataframe to display the confusion matrix results\n",
    "pd.DataFrame(data = confusion_matrix(y_val, y_svm_CV), index = true_labels, columns = pred_labels)"
   ]
  },
  {
   "cell_type": "markdown",
   "metadata": {},
   "source": [
    "**Classfication Report** "
   ]
  },
  {
   "cell_type": "code",
   "execution_count": 327,
   "metadata": {},
   "outputs": [
    {
     "name": "stdout",
     "output_type": "stream",
     "text": [
      "              precision    recall  f1-score   support\n",
      "\n",
      "   -1 : Anti       0.82      0.43      0.56       278\n",
      " 0 : Neutral       0.59      0.45      0.51       425\n",
      "     1 : Pro       0.78      0.88      0.83      1755\n",
      "    2 : News       0.79      0.80      0.79       706\n",
      "\n",
      "    accuracy                           0.76      3164\n",
      "   macro avg       0.75      0.64      0.67      3164\n",
      "weighted avg       0.76      0.76      0.75      3164\n",
      "\n"
     ]
    }
   ],
   "source": [
    "# Print the classification report the validation set\n",
    "print(classification_report(y_val, y_svm_CV, target_names = type_labels))"
   ]
  },
  {
   "cell_type": "markdown",
   "metadata": {},
   "source": [
    "**F1 Score**"
   ]
  },
  {
   "cell_type": "code",
   "execution_count": 329,
   "metadata": {},
   "outputs": [
    {
     "name": "stdout",
     "output_type": "stream",
     "text": [
      "This is the accuracy for the basic Support Vector Machine classifier: 0.7541666798301556\n"
     ]
    }
   ],
   "source": [
    "# Calculate the f1 score on the validation set\n",
    "f1_score_svm = f1_score(y_val, y_svm_CV, average = \"weighted\") \n",
    "\n",
    "# Print the f1 score\n",
    "print(f'This is the accuracy for the basic Support Vector Machine classifier: {f1_score_svm}')"
   ]
  },
  {
   "cell_type": "markdown",
   "metadata": {},
   "source": [
    "###  SMOTE Support Vector Classifier"
   ]
  },
  {
   "cell_type": "code",
   "execution_count": 330,
   "metadata": {},
   "outputs": [
    {
     "data": {
      "text/plain": [
       "SVC(C=10, gamma=0.01)"
      ]
     },
     "execution_count": 330,
     "metadata": {},
     "output_type": "execute_result"
    }
   ],
   "source": [
    "# Instantiate a support vector classifier model to use on the resampled data\n",
    "svm_clf_CV_smote = SVC(C = 10, gamma = 0.01)\n",
    "\n",
    "# Fit the model on the resampled data\n",
    "svm_clf_CV_smote.fit(X_res,y_res)"
   ]
  },
  {
   "cell_type": "code",
   "execution_count": 331,
   "metadata": {},
   "outputs": [],
   "source": [
    "# Predict using the validation set\n",
    "y_pred_svm_CV_smote = svm_clf_CV_smote.predict(X_val)"
   ]
  },
  {
   "cell_type": "markdown",
   "metadata": {},
   "source": [
    "####  Model Performance"
   ]
  },
  {
   "cell_type": "markdown",
   "metadata": {},
   "source": [
    "Model Accuracy Metrics Used\n",
    "- Confusion Matrix\n",
    "- Classification Report\n",
    "- F1_score "
   ]
  },
  {
   "cell_type": "markdown",
   "metadata": {},
   "source": [
    "**Confusion Matrix**"
   ]
  },
  {
   "cell_type": "code",
   "execution_count": 332,
   "metadata": {},
   "outputs": [
    {
     "data": {
      "text/html": [
       "<div>\n",
       "<style scoped>\n",
       "    .dataframe tbody tr th:only-of-type {\n",
       "        vertical-align: middle;\n",
       "    }\n",
       "\n",
       "    .dataframe tbody tr th {\n",
       "        vertical-align: top;\n",
       "    }\n",
       "\n",
       "    .dataframe thead th {\n",
       "        text-align: right;\n",
       "    }\n",
       "</style>\n",
       "<table border=\"1\" class=\"dataframe\">\n",
       "  <thead>\n",
       "    <tr style=\"text-align: right;\">\n",
       "      <th></th>\n",
       "      <th>pred : Anti</th>\n",
       "      <th>pred : Neutral</th>\n",
       "      <th>pred : Pro</th>\n",
       "      <th>pred : News</th>\n",
       "    </tr>\n",
       "  </thead>\n",
       "  <tbody>\n",
       "    <tr>\n",
       "      <th>true : Anti</th>\n",
       "      <td>115</td>\n",
       "      <td>39</td>\n",
       "      <td>117</td>\n",
       "      <td>7</td>\n",
       "    </tr>\n",
       "    <tr>\n",
       "      <th>true : Neutral</th>\n",
       "      <td>31</td>\n",
       "      <td>166</td>\n",
       "      <td>208</td>\n",
       "      <td>20</td>\n",
       "    </tr>\n",
       "    <tr>\n",
       "      <th>true : Pro</th>\n",
       "      <td>35</td>\n",
       "      <td>65</td>\n",
       "      <td>1535</td>\n",
       "      <td>120</td>\n",
       "    </tr>\n",
       "    <tr>\n",
       "      <th>true : News</th>\n",
       "      <td>6</td>\n",
       "      <td>19</td>\n",
       "      <td>126</td>\n",
       "      <td>555</td>\n",
       "    </tr>\n",
       "  </tbody>\n",
       "</table>\n",
       "</div>"
      ],
      "text/plain": [
       "                pred : Anti  pred : Neutral  pred : Pro  pred : News\n",
       "true : Anti             115              39         117            7\n",
       "true : Neutral           31             166         208           20\n",
       "true : Pro               35              65        1535          120\n",
       "true : News               6              19         126          555"
      ]
     },
     "execution_count": 332,
     "metadata": {},
     "output_type": "execute_result"
    }
   ],
   "source": [
    "# Create a dataframe to display the confusion matrix results\n",
    "pd.DataFrame(data = confusion_matrix(y_val, y_pred_svm_CV_smote), index = true_labels, columns = pred_labels)"
   ]
  },
  {
   "cell_type": "markdown",
   "metadata": {},
   "source": [
    "**Classification Report**"
   ]
  },
  {
   "cell_type": "code",
   "execution_count": 333,
   "metadata": {},
   "outputs": [
    {
     "name": "stdout",
     "output_type": "stream",
     "text": [
      "              precision    recall  f1-score   support\n",
      "\n",
      "   -1 : Anti       0.61      0.41      0.49       278\n",
      " 0 : Neutral       0.57      0.39      0.46       425\n",
      "     1 : Pro       0.77      0.87      0.82      1755\n",
      "    2 : News       0.79      0.79      0.79       706\n",
      "\n",
      "    accuracy                           0.75      3164\n",
      "   macro avg       0.69      0.62      0.64      3164\n",
      "weighted avg       0.74      0.75      0.74      3164\n",
      "\n"
     ]
    }
   ],
   "source": [
    "# Print the classification report the validation set\n",
    "print(classification_report(y_val, y_pred_svm_CV_smote, target_names = type_labels))"
   ]
  },
  {
   "cell_type": "markdown",
   "metadata": {},
   "source": [
    "**F1 Score**"
   ]
  },
  {
   "cell_type": "code",
   "execution_count": 334,
   "metadata": {},
   "outputs": [
    {
     "name": "stdout",
     "output_type": "stream",
     "text": [
      "This is the accuracy for the basic Support Vector Machine classifier: 0.7541666798301556\n"
     ]
    }
   ],
   "source": [
    "# Calculate the f1 score on the validation set\n",
    "f1_svm_CV_smote = f1_score(y_val, y_pred_svm_CV_smote, average = \"weighted\") \n",
    "\n",
    "# Print the f1 score\n",
    "print(f'This is the accuracy for the basic Support Vector Machine classifier: {f1_score_svm}')"
   ]
  },
  {
   "cell_type": "markdown",
   "metadata": {},
   "source": [
    "**Comparison**"
   ]
  },
  {
   "cell_type": "code",
   "execution_count": 335,
   "metadata": {},
   "outputs": [
    {
     "data": {
      "text/html": [
       "<div>\n",
       "<style scoped>\n",
       "    .dataframe tbody tr th:only-of-type {\n",
       "        vertical-align: middle;\n",
       "    }\n",
       "\n",
       "    .dataframe tbody tr th {\n",
       "        vertical-align: top;\n",
       "    }\n",
       "\n",
       "    .dataframe thead th {\n",
       "        text-align: right;\n",
       "    }\n",
       "</style>\n",
       "<table border=\"1\" class=\"dataframe\">\n",
       "  <thead>\n",
       "    <tr style=\"text-align: right;\">\n",
       "      <th></th>\n",
       "      <th>f1_score</th>\n",
       "    </tr>\n",
       "  </thead>\n",
       "  <tbody>\n",
       "    <tr>\n",
       "      <th>svc(no smote)</th>\n",
       "      <td>0.754167</td>\n",
       "    </tr>\n",
       "    <tr>\n",
       "      <th>svc(with smote)</th>\n",
       "      <td>0.737016</td>\n",
       "    </tr>\n",
       "  </tbody>\n",
       "</table>\n",
       "</div>"
      ],
      "text/plain": [
       "                 f1_score\n",
       "svc(no smote)    0.754167\n",
       "svc(with smote)  0.737016"
      ]
     },
     "execution_count": 335,
     "metadata": {},
     "output_type": "execute_result"
    }
   ],
   "source": [
    "# Create a dataframe to show the f1 scores of the basic support vector classifier model vs the smote support vector classifier\n",
    "# model\n",
    "\n",
    "# Create a list of f1 scores\n",
    "f1_scores = [f1_score_svm, f1_svm_CV_smote]\n",
    "\n",
    "# Create a list to use as row labels\n",
    "models = [\"svc(no smote)\",\"svc(with smote)\"] \n",
    "\n",
    "# Create metric column name list\n",
    "metrics = ['f1_score']\n",
    "\n",
    "# Create the dataframe\n",
    "model_df = pd.DataFrame(data = f1_scores, index = models, columns = metrics)\n",
    "model_df.head()"
   ]
  },
  {
   "cell_type": "markdown",
   "metadata": {},
   "source": [
    "### Naive Bayes Classifier"
   ]
  },
  {
   "cell_type": "markdown",
   "metadata": {},
   "source": [
    "**Basic Concept**"
   ]
  },
  {
   "cell_type": "code",
   "execution_count": 336,
   "metadata": {},
   "outputs": [],
   "source": [
    "# Instantiate the naive bayes model as nb\n",
    "nb = MultinomialNB() "
   ]
  },
  {
   "cell_type": "code",
   "execution_count": 337,
   "metadata": {},
   "outputs": [
    {
     "data": {
      "text/plain": [
       "MultinomialNB()"
      ]
     },
     "execution_count": 337,
     "metadata": {},
     "output_type": "execute_result"
    }
   ],
   "source": [
    "# Fit the model on the training data\n",
    "nb.fit(X_train, y_train)"
   ]
  },
  {
   "cell_type": "code",
   "execution_count": 338,
   "metadata": {},
   "outputs": [],
   "source": [
    "# Predict on the validation data\n",
    "pred_nb = nb.predict(X_val)"
   ]
  },
  {
   "cell_type": "markdown",
   "metadata": {},
   "source": [
    "#### Model Performance"
   ]
  },
  {
   "cell_type": "markdown",
   "metadata": {},
   "source": [
    "**Confusion Matrix**"
   ]
  },
  {
   "cell_type": "markdown",
   "metadata": {},
   "source": [
    "Model Accuracy Metrics Used\n",
    "- Confusion Matrix\n",
    "- Classification Report\n",
    "- F1_score "
   ]
  },
  {
   "cell_type": "code",
   "execution_count": 339,
   "metadata": {},
   "outputs": [
    {
     "data": {
      "text/html": [
       "<div>\n",
       "<style scoped>\n",
       "    .dataframe tbody tr th:only-of-type {\n",
       "        vertical-align: middle;\n",
       "    }\n",
       "\n",
       "    .dataframe tbody tr th {\n",
       "        vertical-align: top;\n",
       "    }\n",
       "\n",
       "    .dataframe thead th {\n",
       "        text-align: right;\n",
       "    }\n",
       "</style>\n",
       "<table border=\"1\" class=\"dataframe\">\n",
       "  <thead>\n",
       "    <tr style=\"text-align: right;\">\n",
       "      <th></th>\n",
       "      <th>pred : Anti</th>\n",
       "      <th>pred : Neutral</th>\n",
       "      <th>pred : Pro</th>\n",
       "      <th>pred : News</th>\n",
       "    </tr>\n",
       "  </thead>\n",
       "  <tbody>\n",
       "    <tr>\n",
       "      <th>true : Anti</th>\n",
       "      <td>54</td>\n",
       "      <td>35</td>\n",
       "      <td>172</td>\n",
       "      <td>17</td>\n",
       "    </tr>\n",
       "    <tr>\n",
       "      <th>true : Neutral</th>\n",
       "      <td>8</td>\n",
       "      <td>132</td>\n",
       "      <td>239</td>\n",
       "      <td>46</td>\n",
       "    </tr>\n",
       "    <tr>\n",
       "      <th>true : Pro</th>\n",
       "      <td>4</td>\n",
       "      <td>31</td>\n",
       "      <td>1553</td>\n",
       "      <td>167</td>\n",
       "    </tr>\n",
       "    <tr>\n",
       "      <th>true : News</th>\n",
       "      <td>1</td>\n",
       "      <td>2</td>\n",
       "      <td>117</td>\n",
       "      <td>586</td>\n",
       "    </tr>\n",
       "  </tbody>\n",
       "</table>\n",
       "</div>"
      ],
      "text/plain": [
       "                pred : Anti  pred : Neutral  pred : Pro  pred : News\n",
       "true : Anti              54              35         172           17\n",
       "true : Neutral            8             132         239           46\n",
       "true : Pro                4              31        1553          167\n",
       "true : News               1               2         117          586"
      ]
     },
     "execution_count": 339,
     "metadata": {},
     "output_type": "execute_result"
    }
   ],
   "source": [
    "# Create a dataframe to display the confusion matrix results\n",
    "pd.DataFrame(data = confusion_matrix(y_val, pred_nb), index = true_labels, columns = pred_labels)"
   ]
  },
  {
   "cell_type": "code",
   "execution_count": 340,
   "metadata": {},
   "outputs": [
    {
     "name": "stdout",
     "output_type": "stream",
     "text": [
      "              precision    recall  f1-score   support\n",
      "\n",
      "   -1 : Anti       0.81      0.19      0.31       278\n",
      " 0 : Neutral       0.66      0.31      0.42       425\n",
      "     1 : Pro       0.75      0.88      0.81      1755\n",
      "    2 : News       0.72      0.83      0.77       706\n",
      "\n",
      "    accuracy                           0.73      3164\n",
      "   macro avg       0.73      0.55      0.58      3164\n",
      "weighted avg       0.73      0.73      0.71      3164\n",
      "\n"
     ]
    }
   ],
   "source": [
    "# Print the classification on the validation set\n",
    "print(classification_report(y_val, pred_nb, target_names = type_labels))"
   ]
  },
  {
   "cell_type": "code",
   "execution_count": 341,
   "metadata": {},
   "outputs": [
    {
     "name": "stdout",
     "output_type": "stream",
     "text": [
      "This is the accuracy for the Naive Bayes classifier: 0.7541666798301556\n"
     ]
    }
   ],
   "source": [
    "# Calculate the f1 score on the validation set\n",
    "f1_nb = f1_score(y_val, pred_nb, average = \"weighted\") \n",
    "\n",
    "# Print the f1 score\n",
    "print(f'This is the accuracy for the Naive Bayes classifier: {f1_score_svm}')"
   ]
  },
  {
   "cell_type": "markdown",
   "metadata": {},
   "source": [
    "###  SMOTE Naive Bayes Classifier"
   ]
  },
  {
   "cell_type": "code",
   "execution_count": 342,
   "metadata": {},
   "outputs": [],
   "source": [
    "# Instantiate the naive bayes classifier as nb_smote to use on the resampled data\n",
    "nb_smote = MultinomialNB()"
   ]
  },
  {
   "cell_type": "code",
   "execution_count": 343,
   "metadata": {},
   "outputs": [
    {
     "data": {
      "text/plain": [
       "MultinomialNB()"
      ]
     },
     "execution_count": 343,
     "metadata": {},
     "output_type": "execute_result"
    }
   ],
   "source": [
    "# Fit the model on the resampled data\n",
    "nb_smote.fit(X_res, y_res)"
   ]
  },
  {
   "cell_type": "code",
   "execution_count": 344,
   "metadata": {},
   "outputs": [],
   "source": [
    "# Predict of the validation set\n",
    "pred_nbsmote = nb_smote.predict(X_val)"
   ]
  },
  {
   "cell_type": "markdown",
   "metadata": {},
   "source": [
    "####  Model Performance"
   ]
  },
  {
   "cell_type": "markdown",
   "metadata": {},
   "source": [
    "**Confusion Matrix**"
   ]
  },
  {
   "cell_type": "markdown",
   "metadata": {},
   "source": [
    "Model Accuracy Metrics Used\n",
    "- Confusion Matrix\n",
    "- Classification Report\n",
    "- F1_score "
   ]
  },
  {
   "cell_type": "code",
   "execution_count": 345,
   "metadata": {},
   "outputs": [
    {
     "data": {
      "text/html": [
       "<div>\n",
       "<style scoped>\n",
       "    .dataframe tbody tr th:only-of-type {\n",
       "        vertical-align: middle;\n",
       "    }\n",
       "\n",
       "    .dataframe tbody tr th {\n",
       "        vertical-align: top;\n",
       "    }\n",
       "\n",
       "    .dataframe thead th {\n",
       "        text-align: right;\n",
       "    }\n",
       "</style>\n",
       "<table border=\"1\" class=\"dataframe\">\n",
       "  <thead>\n",
       "    <tr style=\"text-align: right;\">\n",
       "      <th></th>\n",
       "      <th>pred : Anti</th>\n",
       "      <th>pred : Neutral</th>\n",
       "      <th>pred : Pro</th>\n",
       "      <th>pred : News</th>\n",
       "    </tr>\n",
       "  </thead>\n",
       "  <tbody>\n",
       "    <tr>\n",
       "      <th>true : Anti</th>\n",
       "      <td>145</td>\n",
       "      <td>41</td>\n",
       "      <td>80</td>\n",
       "      <td>12</td>\n",
       "    </tr>\n",
       "    <tr>\n",
       "      <th>true : Neutral</th>\n",
       "      <td>49</td>\n",
       "      <td>179</td>\n",
       "      <td>146</td>\n",
       "      <td>51</td>\n",
       "    </tr>\n",
       "    <tr>\n",
       "      <th>true : Pro</th>\n",
       "      <td>64</td>\n",
       "      <td>90</td>\n",
       "      <td>1355</td>\n",
       "      <td>246</td>\n",
       "    </tr>\n",
       "    <tr>\n",
       "      <th>true : News</th>\n",
       "      <td>16</td>\n",
       "      <td>9</td>\n",
       "      <td>66</td>\n",
       "      <td>615</td>\n",
       "    </tr>\n",
       "  </tbody>\n",
       "</table>\n",
       "</div>"
      ],
      "text/plain": [
       "                pred : Anti  pred : Neutral  pred : Pro  pred : News\n",
       "true : Anti             145              41          80           12\n",
       "true : Neutral           49             179         146           51\n",
       "true : Pro               64              90        1355          246\n",
       "true : News              16               9          66          615"
      ]
     },
     "execution_count": 345,
     "metadata": {},
     "output_type": "execute_result"
    }
   ],
   "source": [
    "# Create a dataframe to display the confusion matrix results\n",
    "pd.DataFrame(data = confusion_matrix(y_val, pred_nbsmote), index = true_labels, columns = pred_labels)"
   ]
  },
  {
   "cell_type": "code",
   "execution_count": 346,
   "metadata": {},
   "outputs": [
    {
     "name": "stdout",
     "output_type": "stream",
     "text": [
      "              precision    recall  f1-score   support\n",
      "\n",
      "   -1 : Anti       0.53      0.52      0.53       278\n",
      " 0 : Neutral       0.56      0.42      0.48       425\n",
      "     1 : Pro       0.82      0.77      0.80      1755\n",
      "    2 : News       0.67      0.87      0.75       706\n",
      "\n",
      "    accuracy                           0.73      3164\n",
      "   macro avg       0.64      0.65      0.64      3164\n",
      "weighted avg       0.73      0.73      0.72      3164\n",
      "\n"
     ]
    }
   ],
   "source": [
    "# Print the classification report of the validation set\n",
    "print(classification_report(y_val, pred_nbsmote, target_names = type_labels))"
   ]
  },
  {
   "cell_type": "code",
   "execution_count": 347,
   "metadata": {},
   "outputs": [
    {
     "name": "stdout",
     "output_type": "stream",
     "text": [
      "This is the accuracy for the Naive Bayes classifier: 0.7541666798301556\n"
     ]
    }
   ],
   "source": [
    "# Calculate the f1 score on the validation set\n",
    "f1_nb_smote = f1_score(y_val, pred_nbsmote, average = \"weighted\") \n",
    "\n",
    "# Print the f1 score\n",
    "print(f'This is the accuracy for the Naive Bayes classifier: {f1_score_svm}')"
   ]
  },
  {
   "cell_type": "code",
   "execution_count": 348,
   "metadata": {},
   "outputs": [
    {
     "data": {
      "text/html": [
       "<div>\n",
       "<style scoped>\n",
       "    .dataframe tbody tr th:only-of-type {\n",
       "        vertical-align: middle;\n",
       "    }\n",
       "\n",
       "    .dataframe tbody tr th {\n",
       "        vertical-align: top;\n",
       "    }\n",
       "\n",
       "    .dataframe thead th {\n",
       "        text-align: right;\n",
       "    }\n",
       "</style>\n",
       "<table border=\"1\" class=\"dataframe\">\n",
       "  <thead>\n",
       "    <tr style=\"text-align: right;\">\n",
       "      <th></th>\n",
       "      <th>f1_score</th>\n",
       "    </tr>\n",
       "  </thead>\n",
       "  <tbody>\n",
       "    <tr>\n",
       "      <th>NB (no smote)</th>\n",
       "      <td>0.705187</td>\n",
       "    </tr>\n",
       "    <tr>\n",
       "      <th>NB (with smote)</th>\n",
       "      <td>0.721023</td>\n",
       "    </tr>\n",
       "  </tbody>\n",
       "</table>\n",
       "</div>"
      ],
      "text/plain": [
       "                 f1_score\n",
       "NB (no smote)    0.705187\n",
       "NB (with smote)  0.721023"
      ]
     },
     "execution_count": 348,
     "metadata": {},
     "output_type": "execute_result"
    }
   ],
   "source": [
    "\n",
    "# Create a list of f1 scores\n",
    "f1_scores = [f1_nb, f1_nb_smote]\n",
    "\n",
    "# Create a list to use as row labels\n",
    "models = [\"NB (no smote)\",\"NB (with smote)\"] \n",
    "\n",
    "# Create metric column name list\n",
    "metrics = ['f1_score']\n",
    "\n",
    "# Create the dataframe\n",
    "model_df = pd.DataFrame(data = f1_scores, index = models, columns = metrics)\n",
    "\n",
    "model_df.head()"
   ]
  },
  {
   "cell_type": "markdown",
   "metadata": {},
   "source": [
    "##  Test Data\n"
   ]
  },
  {
   "cell_type": "code",
   "execution_count": 365,
   "metadata": {},
   "outputs": [],
   "source": [
    "# Create a copy of the test to perform noise cleaning and vectorization on\n",
    "test_data = test.copy()"
   ]
  },
  {
   "cell_type": "code",
   "execution_count": 367,
   "metadata": {},
   "outputs": [
    {
     "name": "stdout",
     "output_type": "stream",
     "text": [
      "The shape of the data is: (10546, 148345)\n"
     ]
    }
   ],
   "source": [
    "# Use CountVector in order to encode the words in the clean test dataframe\n",
    "test_cv_trans =  cv.transform(test_data['message'])\n",
    "\n",
    "# Print out the shape of the newly vectorized dataframe\n",
    "print(\"The shape of the data is:\", test_cv_trans.shape)"
   ]
  },
  {
   "cell_type": "markdown",
   "metadata": {},
   "source": [
    "###  Logistic Regression"
   ]
  },
  {
   "cell_type": "code",
   "execution_count": 352,
   "metadata": {},
   "outputs": [],
   "source": [
    "# predict on test_data\n",
    "y_pred_logreg_sub = logreg.predict(test_cv_trans)"
   ]
  },
  {
   "cell_type": "markdown",
   "metadata": {},
   "source": [
    "####  Logistic Regression Submission"
   ]
  },
  {
   "cell_type": "code",
   "execution_count": 353,
   "metadata": {},
   "outputs": [],
   "source": [
    "# Extract the tweetid column from test_data to use as the submission file index\n",
    "tweetid = test_data['tweetid']"
   ]
  },
  {
   "cell_type": "code",
   "execution_count": 354,
   "metadata": {},
   "outputs": [],
   "source": [
    "# Create a dataframe using the test_data tweetid and and the predicted sentiment\n",
    "submission_logreg = pd.DataFrame({'tweetid' : tweetid, 'sentiment' : y_pred_logreg_sub})"
   ]
  },
  {
   "cell_type": "code",
   "execution_count": 355,
   "metadata": {},
   "outputs": [
    {
     "data": {
      "text/html": [
       "<div>\n",
       "<style scoped>\n",
       "    .dataframe tbody tr th:only-of-type {\n",
       "        vertical-align: middle;\n",
       "    }\n",
       "\n",
       "    .dataframe tbody tr th {\n",
       "        vertical-align: top;\n",
       "    }\n",
       "\n",
       "    .dataframe thead th {\n",
       "        text-align: right;\n",
       "    }\n",
       "</style>\n",
       "<table border=\"1\" class=\"dataframe\">\n",
       "  <thead>\n",
       "    <tr style=\"text-align: right;\">\n",
       "      <th></th>\n",
       "      <th>tweetid</th>\n",
       "      <th>sentiment</th>\n",
       "    </tr>\n",
       "  </thead>\n",
       "  <tbody>\n",
       "    <tr>\n",
       "      <th>10541</th>\n",
       "      <td>895714</td>\n",
       "      <td>1</td>\n",
       "    </tr>\n",
       "    <tr>\n",
       "      <th>10542</th>\n",
       "      <td>875167</td>\n",
       "      <td>1</td>\n",
       "    </tr>\n",
       "    <tr>\n",
       "      <th>10543</th>\n",
       "      <td>78329</td>\n",
       "      <td>0</td>\n",
       "    </tr>\n",
       "    <tr>\n",
       "      <th>10544</th>\n",
       "      <td>867455</td>\n",
       "      <td>0</td>\n",
       "    </tr>\n",
       "    <tr>\n",
       "      <th>10545</th>\n",
       "      <td>470892</td>\n",
       "      <td>1</td>\n",
       "    </tr>\n",
       "  </tbody>\n",
       "</table>\n",
       "</div>"
      ],
      "text/plain": [
       "       tweetid  sentiment\n",
       "10541   895714          1\n",
       "10542   875167          1\n",
       "10543    78329          0\n",
       "10544   867455          0\n",
       "10545   470892          1"
      ]
     },
     "execution_count": 355,
     "metadata": {},
     "output_type": "execute_result"
    }
   ],
   "source": [
    "# Display the last 5 rows of the submission file\n",
    "submission_logreg.tail()"
   ]
  },
  {
   "cell_type": "code",
   "execution_count": 356,
   "metadata": {},
   "outputs": [],
   "source": [
    "# Save dataframe to a csv file for submission\n",
    "submission_logreg.to_csv(\"XOLANE_MANDLAZI1.csv\", index = False)"
   ]
  },
  {
   "cell_type": "markdown",
   "metadata": {},
   "source": [
    "###  Support Vector"
   ]
  },
  {
   "cell_type": "code",
   "execution_count": 375,
   "metadata": {},
   "outputs": [],
   "source": [
    "# predict on test_data\n",
    "y_pred_svm_sub = svm_clf.predict(test_cv_trans)"
   ]
  },
  {
   "cell_type": "markdown",
   "metadata": {},
   "source": [
    "####  Support Vector Submission"
   ]
  },
  {
   "cell_type": "code",
   "execution_count": 376,
   "metadata": {},
   "outputs": [],
   "source": [
    "# Create a dataframe using the test_data tweetid and and the predicted sentiment\n",
    "submission_svc = pd.DataFrame({'tweetid' : tweetid, 'sentiment' : y_pred_svm_sub})"
   ]
  },
  {
   "cell_type": "code",
   "execution_count": 377,
   "metadata": {},
   "outputs": [
    {
     "data": {
      "text/html": [
       "<div>\n",
       "<style scoped>\n",
       "    .dataframe tbody tr th:only-of-type {\n",
       "        vertical-align: middle;\n",
       "    }\n",
       "\n",
       "    .dataframe tbody tr th {\n",
       "        vertical-align: top;\n",
       "    }\n",
       "\n",
       "    .dataframe thead th {\n",
       "        text-align: right;\n",
       "    }\n",
       "</style>\n",
       "<table border=\"1\" class=\"dataframe\">\n",
       "  <thead>\n",
       "    <tr style=\"text-align: right;\">\n",
       "      <th></th>\n",
       "      <th>tweetid</th>\n",
       "      <th>sentiment</th>\n",
       "    </tr>\n",
       "  </thead>\n",
       "  <tbody>\n",
       "    <tr>\n",
       "      <th>10541</th>\n",
       "      <td>895714</td>\n",
       "      <td>1</td>\n",
       "    </tr>\n",
       "    <tr>\n",
       "      <th>10542</th>\n",
       "      <td>875167</td>\n",
       "      <td>1</td>\n",
       "    </tr>\n",
       "    <tr>\n",
       "      <th>10543</th>\n",
       "      <td>78329</td>\n",
       "      <td>2</td>\n",
       "    </tr>\n",
       "    <tr>\n",
       "      <th>10544</th>\n",
       "      <td>867455</td>\n",
       "      <td>0</td>\n",
       "    </tr>\n",
       "    <tr>\n",
       "      <th>10545</th>\n",
       "      <td>470892</td>\n",
       "      <td>1</td>\n",
       "    </tr>\n",
       "  </tbody>\n",
       "</table>\n",
       "</div>"
      ],
      "text/plain": [
       "       tweetid  sentiment\n",
       "10541   895714          1\n",
       "10542   875167          1\n",
       "10543    78329          2\n",
       "10544   867455          0\n",
       "10545   470892          1"
      ]
     },
     "execution_count": 377,
     "metadata": {},
     "output_type": "execute_result"
    }
   ],
   "source": [
    "# Display the last 5 rows of the submission file\n",
    "submission_svc.tail()"
   ]
  },
  {
   "cell_type": "code",
   "execution_count": 378,
   "metadata": {},
   "outputs": [],
   "source": [
    "# Save dataframe to a csv file for submission\n",
    "submission_svc.to_csv(\"XOLANE MANDLAZI_FINAL.csv\", index = False)"
   ]
  },
  {
   "cell_type": "markdown",
   "metadata": {},
   "source": [
    "###  Naive Bayes"
   ]
  },
  {
   "cell_type": "code",
   "execution_count": 361,
   "metadata": {},
   "outputs": [],
   "source": [
    "y_pred_nb = nb.predict(test_cv_trans)"
   ]
  },
  {
   "cell_type": "markdown",
   "metadata": {},
   "source": [
    "#### 8.3.1. Naive Bayes Submission"
   ]
  },
  {
   "cell_type": "code",
   "execution_count": 362,
   "metadata": {},
   "outputs": [],
   "source": [
    "# Create a dataframe using the test_data tweetid and and the predicted sentiment\n",
    "submission_nb = pd.DataFrame({'tweetid' : tweetid, 'sentiment' : y_pred_nb})"
   ]
  },
  {
   "cell_type": "code",
   "execution_count": 363,
   "metadata": {},
   "outputs": [
    {
     "data": {
      "text/html": [
       "<div>\n",
       "<style scoped>\n",
       "    .dataframe tbody tr th:only-of-type {\n",
       "        vertical-align: middle;\n",
       "    }\n",
       "\n",
       "    .dataframe tbody tr th {\n",
       "        vertical-align: top;\n",
       "    }\n",
       "\n",
       "    .dataframe thead th {\n",
       "        text-align: right;\n",
       "    }\n",
       "</style>\n",
       "<table border=\"1\" class=\"dataframe\">\n",
       "  <thead>\n",
       "    <tr style=\"text-align: right;\">\n",
       "      <th></th>\n",
       "      <th>tweetid</th>\n",
       "      <th>sentiment</th>\n",
       "    </tr>\n",
       "  </thead>\n",
       "  <tbody>\n",
       "    <tr>\n",
       "      <th>10541</th>\n",
       "      <td>895714</td>\n",
       "      <td>1</td>\n",
       "    </tr>\n",
       "    <tr>\n",
       "      <th>10542</th>\n",
       "      <td>875167</td>\n",
       "      <td>1</td>\n",
       "    </tr>\n",
       "    <tr>\n",
       "      <th>10543</th>\n",
       "      <td>78329</td>\n",
       "      <td>1</td>\n",
       "    </tr>\n",
       "    <tr>\n",
       "      <th>10544</th>\n",
       "      <td>867455</td>\n",
       "      <td>0</td>\n",
       "    </tr>\n",
       "    <tr>\n",
       "      <th>10545</th>\n",
       "      <td>470892</td>\n",
       "      <td>1</td>\n",
       "    </tr>\n",
       "  </tbody>\n",
       "</table>\n",
       "</div>"
      ],
      "text/plain": [
       "       tweetid  sentiment\n",
       "10541   895714          1\n",
       "10542   875167          1\n",
       "10543    78329          1\n",
       "10544   867455          0\n",
       "10545   470892          1"
      ]
     },
     "execution_count": 363,
     "metadata": {},
     "output_type": "execute_result"
    }
   ],
   "source": [
    "# Display the last 5 rows of the submission file\n",
    "submission_nb.tail()"
   ]
  },
  {
   "cell_type": "code",
   "execution_count": 364,
   "metadata": {},
   "outputs": [],
   "source": [
    "# Save dataframe to a csv file for submission\n",
    "submission_nb.to_csv(\"XOLANE_MANDLAZI3.csv\", index = False)"
   ]
  }
 ],
 "metadata": {
  "kernelspec": {
   "display_name": "Python 3",
   "language": "python",
   "name": "python3"
  },
  "language_info": {
   "codemirror_mode": {
    "name": "ipython",
    "version": 3
   },
   "file_extension": ".py",
   "mimetype": "text/x-python",
   "name": "python",
   "nbconvert_exporter": "python",
   "pygments_lexer": "ipython3",
   "version": "3.8.5"
  }
 },
 "nbformat": 4,
 "nbformat_minor": 4
}
